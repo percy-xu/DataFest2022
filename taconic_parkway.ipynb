{
 "cells": [
  {
   "cell_type": "markdown",
   "metadata": {},
   "source": [
    "# Taconic Parkway, DataFest 2022\n",
    "\n",
    "Hello, we are team Taconic Parkway from Vassar College. Here is our analysis on the dataset, in 3 parts:\n",
    "\n",
    "1. Exploratory Analysis\n",
    "2. Statistical Model\n",
    "3. Conclusion and Discussion\n",
    "\n",
    "We hope you enjoy our analysis!"
   ]
  },
  {
   "cell_type": "markdown",
   "metadata": {},
   "source": [
    "## 1. Exploratory Analysis"
   ]
  },
  {
   "cell_type": "code",
   "execution_count": 1,
   "metadata": {},
   "outputs": [],
   "source": [
    "import pandas as pd\n",
    "import numpy as np\n",
    "import seaborn as sns\n",
    "import matplotlib.pyplot as plt\n",
    "import warnings"
   ]
  },
  {
   "cell_type": "code",
   "execution_count": 2,
   "metadata": {},
   "outputs": [],
   "source": [
    "warnings.filterwarnings('ignore')"
   ]
  },
  {
   "cell_type": "code",
   "execution_count": 3,
   "metadata": {},
   "outputs": [],
   "source": [
    "sns.set_theme()"
   ]
  },
  {
   "cell_type": "markdown",
   "metadata": {},
   "source": [
    "Let's first take a look at the target variable, drug resistance, in `S5_scores_cleaned.csv`\n"
   ]
  },
  {
   "cell_type": "code",
   "execution_count": 4,
   "metadata": {},
   "outputs": [],
   "source": [
    "df_resist = pd.read_csv(\"Data/S5_scores_cleaned.csv\", dtype={'player_id':str}).dropna()"
   ]
  },
  {
   "cell_type": "markdown",
   "metadata": {},
   "source": [
    "Note: *A higher mean score indicates that the student has lower efficacy in resisting drugs.*\n",
    "\n",
    "We can invert `S5_mean` to get a resistance score. A higher resistance score means higher efficacy in resisting drugs. A bit more intuitive."
   ]
  },
  {
   "cell_type": "code",
   "execution_count": 5,
   "metadata": {},
   "outputs": [],
   "source": [
    "df_resist['resistance'] = 1 / df_resist['S5_mean']"
   ]
  },
  {
   "cell_type": "code",
   "execution_count": 6,
   "metadata": {},
   "outputs": [
    {
     "data": {
      "text/html": [
       "<div>\n",
       "<style scoped>\n",
       "    .dataframe tbody tr th:only-of-type {\n",
       "        vertical-align: middle;\n",
       "    }\n",
       "\n",
       "    .dataframe tbody tr th {\n",
       "        vertical-align: top;\n",
       "    }\n",
       "\n",
       "    .dataframe thead th {\n",
       "        text-align: right;\n",
       "    }\n",
       "</style>\n",
       "<table border=\"1\" class=\"dataframe\">\n",
       "  <thead>\n",
       "    <tr style=\"text-align: right;\">\n",
       "      <th></th>\n",
       "      <th>player_id</th>\n",
       "      <th>weeks</th>\n",
       "      <th>S5_mean</th>\n",
       "      <th>resistance</th>\n",
       "    </tr>\n",
       "  </thead>\n",
       "  <tbody>\n",
       "    <tr>\n",
       "      <th>0</th>\n",
       "      <td>6427001</td>\n",
       "      <td>0</td>\n",
       "      <td>3.900</td>\n",
       "      <td>0.256410</td>\n",
       "    </tr>\n",
       "    <tr>\n",
       "      <th>1</th>\n",
       "      <td>6427001</td>\n",
       "      <td>3</td>\n",
       "      <td>3.900</td>\n",
       "      <td>0.256410</td>\n",
       "    </tr>\n",
       "    <tr>\n",
       "      <th>2</th>\n",
       "      <td>6427001</td>\n",
       "      <td>6</td>\n",
       "      <td>3.875</td>\n",
       "      <td>0.258065</td>\n",
       "    </tr>\n",
       "    <tr>\n",
       "      <th>3</th>\n",
       "      <td>6427027</td>\n",
       "      <td>0</td>\n",
       "      <td>3.800</td>\n",
       "      <td>0.263158</td>\n",
       "    </tr>\n",
       "    <tr>\n",
       "      <th>4</th>\n",
       "      <td>6427027</td>\n",
       "      <td>3</td>\n",
       "      <td>4.000</td>\n",
       "      <td>0.250000</td>\n",
       "    </tr>\n",
       "  </tbody>\n",
       "</table>\n",
       "</div>"
      ],
      "text/plain": [
       "  player_id  weeks  S5_mean  resistance\n",
       "0   6427001      0    3.900    0.256410\n",
       "1   6427001      3    3.900    0.256410\n",
       "2   6427001      6    3.875    0.258065\n",
       "3   6427027      0    3.800    0.263158\n",
       "4   6427027      3    4.000    0.250000"
      ]
     },
     "execution_count": 6,
     "metadata": {},
     "output_type": "execute_result"
    }
   ],
   "source": [
    "df_resist.head()"
   ]
  },
  {
   "cell_type": "markdown",
   "metadata": {},
   "source": [
    "Some questions we can ask:\n",
    "- How many weeks does it take for players to complete this game?\n",
    "- How do the players' drug resistance change over time?"
   ]
  },
  {
   "cell_type": "markdown",
   "metadata": {},
   "source": [
    "How many weeks does it take for players to complete this game?"
   ]
  },
  {
   "cell_type": "code",
   "execution_count": 7,
   "metadata": {},
   "outputs": [
    {
     "data": {
      "image/png": "[encoded data removed]",
      "text/plain": [
       "<Figure size 360x360 with 1 Axes>"
      ]
     },
     "metadata": {},
     "output_type": "display_data"
    }
   ],
   "source": [
    "sns.displot(data=df_resist.groupby('player_id').max()['weeks'])\n",
    "plt.title(\"Weeks spent on completing the game\");"
   ]
  },
  {
   "cell_type": "markdown",
   "metadata": {},
   "source": [
    "We can see there are 3 groups of players:\n",
    "\n",
    "- 0-10 weeks\n",
    "- 10-15 weeks\n",
    "- 20-25 weeks"
   ]
  },
  {
   "cell_type": "markdown",
   "metadata": {},
   "source": [
    "How do players' drug resistance change over time for each group?"
   ]
  },
  {
   "cell_type": "code",
   "execution_count": 8,
   "metadata": {},
   "outputs": [],
   "source": [
    "# 0-5 weeks\n",
    "player_list_0_5 = df_resist.groupby('player_id').max().query(\"weeks < 10\").index\n",
    "# 10-15 weeks\n",
    "player_list_10_15 = df_resist.groupby('player_id').max().query(\"10 <= weeks < 15\").index\n",
    "# 20-25 weeks\n",
    "player_list_20_25 = df_resist.groupby('player_id').max().query(\"20 <= weeks <= 25\").index"
   ]
  },
  {
   "cell_type": "code",
   "execution_count": 9,
   "metadata": {},
   "outputs": [
    {
     "data": {
      "image/png": "[encoded data removed]",
      "text/plain": [
       "<Figure size 1080x360 with 3 Axes>"
      ]
     },
     "metadata": {},
     "output_type": "display_data"
    }
   ],
   "source": [
    "fig, axes = plt.subplots(1, 3, sharey=True, figsize=(15, 5))\n",
    "\n",
    "fig.suptitle('Change in drug resistance')\n",
    "axes[0].set_title('0-5 Weeks')\n",
    "axes[1].set_title('10-15 Weeks')\n",
    "axes[2].set_title('20-25 Weeks')\n",
    "\n",
    "sns.regplot(ax=axes[0], x='weeks', y='resistance', data=df_resist.where(df_resist['player_id'].isin(player_list_0_5)), x_estimator=np.mean)\n",
    "sns.regplot(ax=axes[1], x='weeks', y='resistance', data=df_resist.where(df_resist['player_id'].isin(player_list_10_15)), x_estimator=np.mean)\n",
    "sns.regplot(ax=axes[2], x='weeks', y='resistance', data=df_resist.where(df_resist['player_id'].isin(player_list_20_25)), x_estimator=np.mean);"
   ]
  },
  {
   "cell_type": "markdown",
   "metadata": {},
   "source": [
    "It looks like on average, players who spent the least time completing the game experienced steeper decreases in drug resistance ratings.\n",
    "\n",
    "***Potential research question: is drug resistance rating associated with playing time in some way?***"
   ]
  },
  {
   "cell_type": "markdown",
   "metadata": {},
   "source": [
    "Moving on to the main dataset, `logs.csv`"
   ]
  },
  {
   "cell_type": "code",
   "execution_count": 10,
   "metadata": {},
   "outputs": [],
   "source": [
    "df_log = pd.read_csv(\"Data/logs.csv\", low_memory=False)"
   ]
  },
  {
   "cell_type": "markdown",
   "metadata": {},
   "source": [
    "This dataset is large, so let's focus on just one player first."
   ]
  },
  {
   "cell_type": "code",
   "execution_count": 11,
   "metadata": {},
   "outputs": [],
   "source": [
    "player_a = df_log['player_id'][0]\n",
    "df_player_a = df_log.query(f\"player_id == {player_a}\")"
   ]
  },
  {
   "cell_type": "markdown",
   "metadata": {},
   "source": [
    "This game is divided into 12 scenes (\"stacks\"). Each with a different theme. See `Spreadsheets\\ChallengeStacksData.xlsx` for details on each stack."
   ]
  },
  {
   "cell_type": "code",
   "execution_count": 12,
   "metadata": {},
   "outputs": [],
   "source": [
    "# keys are stack ids, values are stack themes\n",
    "stacks = {\n",
    "    0: \"Cheaters\",\n",
    "    1: \"Poolside\",\n",
    "    2: \"Kissing\",\n",
    "    3: \"Pills\",\n",
    "    4: \"Misbehavin'\",\n",
    "    5: \"New Year's\",\n",
    "    6: \"Serious\",\n",
    "    7: \"Racing\",\n",
    "    8: \"Scare\",\n",
    "    9: \"Prom\",\n",
    "    10: \"Confide\",\n",
    "    11: \"First Job\",\n",
    "    12: \"Tutorial\"\n",
    "}"
   ]
  },
  {
   "cell_type": "markdown",
   "metadata": {},
   "source": [
    "How long does this player spend on each stack? We can write a function for this:"
   ]
  },
  {
   "cell_type": "code",
   "execution_count": 42,
   "metadata": {},
   "outputs": [],
   "source": [
    "def stack_play_time(player_id):\n",
    "    '''\n",
    "    calculates the amount of time a player spends on each stack\n",
    "    '''\n",
    "    df_player = df_log.query(f\"player_id == {player_id}\")\n",
    "    play_history = df_player.dropna(subset=['stack_id'])[['stack_id', 'event_time_dbl']].groupby('stack_id').max()\n",
    "    # need to sort by event_time_dbl because players don't necessarily go through stacks in numerical order\n",
    "    play_history.sort_values(by='event_time_dbl', inplace=True)\n",
    "    play_times = play_history.diff()\n",
    "    play_times.rename(columns={'event_time_dbl': 'play_time'}, inplace=True)\n",
    "    # we don't care about the tutorial\n",
    "    play_times.drop(index=12, inplace=True)\n",
    "    play_times.sort_index(inplace=True)\n",
    "    play_times['description'] = [stacks[x] for x in play_times.index]\n",
    "    play_times['player_id'] = player_id\n",
    "    play_times = play_times[['player_id', 'play_time', 'description']]\n",
    "    play_times.reset_index(inplace=True)\n",
    "    play_times['stack_id'] = play_times['stack_id'].astype(int)\n",
    "    return play_times"
   ]
  },
  {
   "cell_type": "code",
   "execution_count": 14,
   "metadata": {},
   "outputs": [
    {
     "data": {
      "text/html": [
       "<div>\n",
       "<style scoped>\n",
       "    .dataframe tbody tr th:only-of-type {\n",
       "        vertical-align: middle;\n",
       "    }\n",
       "\n",
       "    .dataframe tbody tr th {\n",
       "        vertical-align: top;\n",
       "    }\n",
       "\n",
       "    .dataframe thead th {\n",
       "        text-align: right;\n",
       "    }\n",
       "</style>\n",
       "<table border=\"1\" class=\"dataframe\">\n",
       "  <thead>\n",
       "    <tr style=\"text-align: right;\">\n",
       "      <th></th>\n",
       "      <th>stack_id</th>\n",
       "      <th>player_id</th>\n",
       "      <th>play_time</th>\n",
       "      <th>description</th>\n",
       "    </tr>\n",
       "  </thead>\n",
       "  <tbody>\n",
       "    <tr>\n",
       "      <th>0</th>\n",
       "      <td>0</td>\n",
       "      <td>6427001</td>\n",
       "      <td>3835.0</td>\n",
       "      <td>Cheaters</td>\n",
       "    </tr>\n",
       "    <tr>\n",
       "      <th>1</th>\n",
       "      <td>1</td>\n",
       "      <td>6427001</td>\n",
       "      <td>1588.0</td>\n",
       "      <td>Poolside</td>\n",
       "    </tr>\n",
       "    <tr>\n",
       "      <th>2</th>\n",
       "      <td>2</td>\n",
       "      <td>6427001</td>\n",
       "      <td>2402.0</td>\n",
       "      <td>Kissing</td>\n",
       "    </tr>\n",
       "    <tr>\n",
       "      <th>3</th>\n",
       "      <td>3</td>\n",
       "      <td>6427001</td>\n",
       "      <td>1388.0</td>\n",
       "      <td>Pills</td>\n",
       "    </tr>\n",
       "    <tr>\n",
       "      <th>4</th>\n",
       "      <td>4</td>\n",
       "      <td>6427001</td>\n",
       "      <td>1867.0</td>\n",
       "      <td>Misbehavin'</td>\n",
       "    </tr>\n",
       "    <tr>\n",
       "      <th>5</th>\n",
       "      <td>5</td>\n",
       "      <td>6427001</td>\n",
       "      <td>3045.0</td>\n",
       "      <td>New Year's</td>\n",
       "    </tr>\n",
       "    <tr>\n",
       "      <th>6</th>\n",
       "      <td>6</td>\n",
       "      <td>6427001</td>\n",
       "      <td>2972.0</td>\n",
       "      <td>Serious</td>\n",
       "    </tr>\n",
       "    <tr>\n",
       "      <th>7</th>\n",
       "      <td>7</td>\n",
       "      <td>6427001</td>\n",
       "      <td>1925.0</td>\n",
       "      <td>Racing</td>\n",
       "    </tr>\n",
       "    <tr>\n",
       "      <th>8</th>\n",
       "      <td>8</td>\n",
       "      <td>6427001</td>\n",
       "      <td>2809.0</td>\n",
       "      <td>Scare</td>\n",
       "    </tr>\n",
       "    <tr>\n",
       "      <th>9</th>\n",
       "      <td>9</td>\n",
       "      <td>6427001</td>\n",
       "      <td>1025.0</td>\n",
       "      <td>Prom</td>\n",
       "    </tr>\n",
       "    <tr>\n",
       "      <th>10</th>\n",
       "      <td>10</td>\n",
       "      <td>6427001</td>\n",
       "      <td>5736.0</td>\n",
       "      <td>Confide</td>\n",
       "    </tr>\n",
       "    <tr>\n",
       "      <th>11</th>\n",
       "      <td>11</td>\n",
       "      <td>6427001</td>\n",
       "      <td>8041.0</td>\n",
       "      <td>First Job</td>\n",
       "    </tr>\n",
       "  </tbody>\n",
       "</table>\n",
       "</div>"
      ],
      "text/plain": [
       "    stack_id  player_id  play_time  description\n",
       "0          0    6427001     3835.0     Cheaters\n",
       "1          1    6427001     1588.0     Poolside\n",
       "2          2    6427001     2402.0      Kissing\n",
       "3          3    6427001     1388.0        Pills\n",
       "4          4    6427001     1867.0  Misbehavin'\n",
       "5          5    6427001     3045.0   New Year's\n",
       "6          6    6427001     2972.0      Serious\n",
       "7          7    6427001     1925.0       Racing\n",
       "8          8    6427001     2809.0        Scare\n",
       "9          9    6427001     1025.0         Prom\n",
       "10        10    6427001     5736.0      Confide\n",
       "11        11    6427001     8041.0    First Job"
      ]
     },
     "execution_count": 14,
     "metadata": {},
     "output_type": "execute_result"
    }
   ],
   "source": [
    "stack_play_time(player_a)"
   ]
  },
  {
   "cell_type": "code",
   "execution_count": 15,
   "metadata": {},
   "outputs": [
    {
     "data": {
      "image/png": "[encoded data removed]",
      "text/plain": [
       "<Figure size 432x288 with 1 Axes>"
      ]
     },
     "metadata": {},
     "output_type": "display_data"
    }
   ],
   "source": [
    "sns.barplot(x='stack_id', y='play_time', data=stack_play_time(player_a), color='black')\n",
    "plt.title(f\"Play time for each stack for player {player_a}\");"
   ]
  },
  {
   "cell_type": "markdown",
   "metadata": {},
   "source": [
    "Now, let's take a look at this metric on an aggregate level."
   ]
  },
  {
   "cell_type": "code",
   "execution_count": 16,
   "metadata": {},
   "outputs": [],
   "source": [
    "df_play_time = pd.concat([stack_play_time(player) for player in df_log['player_id'].unique()])"
   ]
  },
  {
   "cell_type": "code",
   "execution_count": 17,
   "metadata": {},
   "outputs": [
    {
     "data": {
      "image/png": "[encoded data removed]",
      "text/plain": [
       "<Figure size 432x288 with 1 Axes>"
      ]
     },
     "metadata": {},
     "output_type": "display_data"
    }
   ],
   "source": [
    "sns.barplot(x=np.arange(12), y='play_time', data=df_play_time.groupby('stack_id').median(), color='black')\n",
    "plt.title(\"Median play time for each stack for all players\");"
   ]
  },
  {
   "cell_type": "markdown",
   "metadata": {},
   "source": [
    "We ultimately want to connect play time to drug resistance. So let's dig more into drug-related data."
   ]
  },
  {
   "cell_type": "markdown",
   "metadata": {},
   "source": [
    "Some knowledge mini-games have about drugs, in those mini-games, players are prompted to select a fact card they agree with.\n",
    "\n",
    "We can find fact cards about drugs in `Spreadsheets\\KnowledgeMinigameData.xlsx`"
   ]
  },
  {
   "cell_type": "code",
   "execution_count": 18,
   "metadata": {},
   "outputs": [],
   "source": [
    "df_knowledge = pd.read_excel(\"Spreadsheets\\KnowledgeMinigameData.xlsx\", sheet_name='gamedata', header=1, index_col='id')"
   ]
  },
  {
   "cell_type": "markdown",
   "metadata": {},
   "source": [
    "We are interested in fact cards about drugs. We can look for the keyword \"drug\" in the descriptions."
   ]
  },
  {
   "cell_type": "code",
   "execution_count": 19,
   "metadata": {},
   "outputs": [
    {
     "name": "stdout",
     "output_type": "stream",
     "text": [
      "Factcard ID 19: Using drugs not prescribed by a doctor specifically for you can cause serious health problems, even death.\n",
      "Factcard ID 21: Even using drugs a few times can quickly change to an addiction. \n",
      "Factcard ID 22: Using any drug can be more dangerous when taken with alcohol or other drugs.\n",
      "Factcard ID 26: Teens who drink are more likely to put themselves in situations like unsafe sex and drug use.\n",
      "Factcard ID 31: Teens who think about their future are less likely to engage in risky behaviors such as doing drugs or drinking alcohol.\n"
     ]
    }
   ],
   "source": [
    "for i in range(32): # there are 31 knowledge mini games in total\n",
    "    if 'drug' in df_knowledge.at[i, 'description']:\n",
    "        print(f\"Factcard ID {i}: {df_knowledge.at[i, 'description']}\")"
   ]
  },
  {
   "cell_type": "markdown",
   "metadata": {},
   "source": [
    "We can calculate the time a player spends on drug related mini games."
   ]
  },
  {
   "cell_type": "code",
   "execution_count": 30,
   "metadata": {},
   "outputs": [],
   "source": [
    "def drug_mini_levels(player_id):\n",
    "    drug_fact_cards = ['FactCardData_id:19]', 'FactCardData_id:21]', 'FactCardData_id:22]', 'FactCardData_id:26]', 'FactCardData_id:31]']\n",
    "    # find out which levels are associated with drugs card by card\n",
    "    levels = []\n",
    "    for card in drug_fact_cards:\n",
    "        df_card = df_log.query(f\"player_id=={player_id} & fact_card_id=='{card}'\")\n",
    "        # find out the levels this fact card appears in\n",
    "        card_levels = df_card['minigame_level'].unique()\n",
    "        [levels.append(l) for l in card_levels if l not in levels]\n",
    "    # these are all the drug-related mini game levels for this player\n",
    "    levels = sorted([int(l) for l in levels])\n",
    "    return levels"
   ]
  },
  {
   "cell_type": "code",
   "execution_count": 514,
   "metadata": {},
   "outputs": [],
   "source": [
    "def level_play_time(player_id, level):\n",
    "    \"\"\"\n",
    "    calculates the amount of time a player spends on a certain level of a knowledge mini game\n",
    "    \"\"\"\n",
    "    df_player = df_log.query(f\"player_id == {player_id}\")\n",
    "    # event 400 starts mini game \n",
    "    # event id 103, 420, 1002, 1003 end mini game\n",
    "    df_level = df_player.query(\"event_id == 400 | event_id == 420 | event_id == 1002\")\n",
    "    df_level = df_level.query(f\"minigame_level == {level}\")\n",
    "    df_level = pd.concat([df_level, df_player.query(\"event_id == 103 | event_id == 1003\")], axis=0)\n",
    "    df_level.sort_values(by=['event_time_dbl'], inplace=True)\n",
    "    df_level.reset_index(drop=True, inplace=True)\n",
    "\n",
    "    # return df_level\n",
    "    # sometimes players click away and generate new 400 events, so we need to drop the extra 400 events\n",
    "    \n",
    "    # after this loop, we will have alternating rows of 400 and (103/420/1002/1003) events\n",
    "    first_400_idx = df_level.query(\"event_id == 400\").index[0]\n",
    "    last_400_idx = df_level.query(\"event_id == 400\").index[-1]\n",
    "    df_level = df_level.loc[first_400_idx:last_400_idx+1]\n",
    "\n",
    "    df_level.reset_index(drop=True, inplace=True)\n",
    "    i = 0\n",
    "    drop = []\n",
    "    while i < len(df_level)-1:\n",
    "        # we want all neighboring (400/non-400) pairs\n",
    "        curr_id = df_level.at[i, 'event_id']\n",
    "        next_id = df_level.at[i+1, 'event_id']\n",
    "\n",
    "        if curr_id == 400 and next_id != 400:\n",
    "            i += 2 # we want this\n",
    "        else:\n",
    "            drop.append(i)\n",
    "            i += 1\n",
    "\n",
    "    df_level.drop(index=drop, inplace=True)\n",
    "    df_level.reset_index(drop=True, inplace=True)\n",
    "\n",
    "    # after this loop, we will take out edge cases where the player quit halfway\n",
    "    k = 1\n",
    "    drop = []\n",
    "    while k <= len(df_level)-1:\n",
    "        # we want all neighboring pairs to be on the same day\n",
    "        curr_date = df_level.at[k, 'date']\n",
    "        prev_date = df_level.at[k-1, 'date']\n",
    "        if curr_date != prev_date:\n",
    "            drop += [k, k-1]\n",
    "        k += 2\n",
    "    \n",
    "    df_level.drop(index=drop, inplace=True)\n",
    "    df_level.reset_index(drop=True, inplace=True)\n",
    "\n",
    "    # calculate the play time for each interval\n",
    "    play_time = 0\n",
    "    for j in range(1, len(df_level), 2):\n",
    "        play_start = df_level.at[j-1, 'event_time_dbl']\n",
    "        play_end = df_level.at[j, 'event_time_dbl']\n",
    "        # if the player exited in less than a minute, discard this record\n",
    "        duration = play_end - play_start\n",
    "        if duration >= 60:\n",
    "            play_time += duration\n",
    "    # this is the total amount of time this player spent on this mini game\n",
    "    return play_time"
   ]
  },
  {
   "cell_type": "code",
   "execution_count": 152,
   "metadata": {},
   "outputs": [],
   "source": [
    "def drug_mini_play_time(player_id):\n",
    "    levels = drug_mini_levels(player_id)\n",
    "    play_time = [level_play_time(player_id, l) for l in levels]\n",
    "    df_play_time = pd.DataFrame({'player_id':player_id, 'level':levels, 'play_time':play_time})\n",
    "    return df_play_time"
   ]
  },
  {
   "cell_type": "markdown",
   "metadata": {},
   "source": [
    "For our player, the play time for all drug-related mini games is:"
   ]
  },
  {
   "cell_type": "code",
   "execution_count": 513,
   "metadata": {},
   "outputs": [
    {
     "data": {
      "text/html": [
       "<div>\n",
       "<style scoped>\n",
       "    .dataframe tbody tr th:only-of-type {\n",
       "        vertical-align: middle;\n",
       "    }\n",
       "\n",
       "    .dataframe tbody tr th {\n",
       "        vertical-align: top;\n",
       "    }\n",
       "\n",
       "    .dataframe thead th {\n",
       "        text-align: right;\n",
       "    }\n",
       "</style>\n",
       "<table border=\"1\" class=\"dataframe\">\n",
       "  <thead>\n",
       "    <tr style=\"text-align: right;\">\n",
       "      <th></th>\n",
       "      <th>player_id</th>\n",
       "      <th>level</th>\n",
       "      <th>play_time</th>\n",
       "    </tr>\n",
       "  </thead>\n",
       "  <tbody>\n",
       "    <tr>\n",
       "      <th>0</th>\n",
       "      <td>6427001</td>\n",
       "      <td>1</td>\n",
       "      <td>447</td>\n",
       "    </tr>\n",
       "    <tr>\n",
       "      <th>1</th>\n",
       "      <td>6427001</td>\n",
       "      <td>2</td>\n",
       "      <td>999</td>\n",
       "    </tr>\n",
       "    <tr>\n",
       "      <th>2</th>\n",
       "      <td>6427001</td>\n",
       "      <td>3</td>\n",
       "      <td>879</td>\n",
       "    </tr>\n",
       "    <tr>\n",
       "      <th>3</th>\n",
       "      <td>6427001</td>\n",
       "      <td>5</td>\n",
       "      <td>1706</td>\n",
       "    </tr>\n",
       "  </tbody>\n",
       "</table>\n",
       "</div>"
      ],
      "text/plain": [
       "   player_id  level  play_time\n",
       "0    6427001      1        447\n",
       "1    6427001      2        999\n",
       "2    6427001      3        879\n",
       "3    6427001      5       1706"
      ]
     },
     "execution_count": 513,
     "metadata": {},
     "output_type": "execute_result"
    }
   ],
   "source": [
    "drug_mini_play_time(player_a)"
   ]
  },
  {
   "cell_type": "code",
   "execution_count": null,
   "metadata": {},
   "outputs": [],
   "source": []
  },
  {
   "cell_type": "code",
   "execution_count": null,
   "metadata": {},
   "outputs": [],
   "source": []
  },
  {
   "cell_type": "code",
   "execution_count": null,
   "metadata": {},
   "outputs": [],
   "source": []
  },
  {
   "cell_type": "markdown",
   "metadata": {},
   "source": [
    "## 2. Statistical Model"
   ]
  },
  {
   "cell_type": "markdown",
   "metadata": {},
   "source": [
    "## 3. Conclusion"
   ]
  }
 ],
 "metadata": {
  "interpreter": {
   "hash": "a8f61be024eba58adef938c9aa1e29e02cb3dece83a5348b1a2dafd16a070453"
  },
  "kernelspec": {
   "display_name": "Python 3.8.8 ('base')",
   "language": "python",
   "name": "python3"
  },
  "language_info": {
   "codemirror_mode": {
    "name": "ipython",
    "version": 3
   },
   "file_extension": ".py",
   "mimetype": "text/x-python",
   "name": "python",
   "nbconvert_exporter": "python",
   "pygments_lexer": "ipython3",
   "version": "3.8.5"
  },
  "orig_nbformat": 4
 },
 "nbformat": 4,
 "nbformat_minor": 2
}
