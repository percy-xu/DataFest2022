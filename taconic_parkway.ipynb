{
 "cells": [
  {
   "cell_type": "markdown",
   "metadata": {},
   "source": [
    "# Taconic Parkway, DataFest 2022\n",
    "\n",
    "Hello, we are team Taconic Parkway from Vassar College. We try to answer 2 central questions in our analysis:\n",
    "\n",
    "1. Does the game help its players avoid drugs?\n",
    "2. What is the relationship between play time and efficacy? Is there a \"sweet spot\"?\n",
    "\n",
    "Here is our analysis on the dataset, in 3 parts:\n",
    "\n",
    "1. Exploratory Analysis\n",
    "2. Statistical Model\n",
    "3. Conclusion\n",
    "\n",
    "We hope you enjoy it!"
   ]
  },
  {
   "cell_type": "markdown",
   "metadata": {},
   "source": [
    "## 1. Exploratory Analysis"
   ]
  },
  {
   "cell_type": "code",
   "execution_count": 541,
   "metadata": {},
   "outputs": [],
   "source": [
    "import pandas as pd\n",
    "import numpy as np\n",
    "import seaborn as sns\n",
    "import matplotlib.pyplot as plt\n",
    "from tqdm import tqdm\n",
    "import warnings"
   ]
  },
  {
   "cell_type": "code",
   "execution_count": 542,
   "metadata": {},
   "outputs": [],
   "source": [
    "warnings.filterwarnings('ignore')"
   ]
  },
  {
   "cell_type": "code",
   "execution_count": 543,
   "metadata": {},
   "outputs": [],
   "source": [
    "sns.set_theme()"
   ]
  },
  {
   "cell_type": "markdown",
   "metadata": {},
   "source": [
    "Let's first take a look at the target variable, drug resistance, in `S5_scores_cleaned.csv`\n"
   ]
  },
  {
   "cell_type": "code",
   "execution_count": 544,
   "metadata": {},
   "outputs": [],
   "source": [
    "df_resist = pd.read_csv(\"Data/S5_scores_cleaned.csv\", dtype={'player_id':str}).dropna()"
   ]
  },
  {
   "cell_type": "markdown",
   "metadata": {},
   "source": [
    "Note: *A higher mean score indicates that the student has lower efficacy in resisting drugs.*\n",
    "\n",
    "We can invert `S5_mean` to get a resistance score. A higher resistance score means higher efficacy in resisting drugs. A bit more intuitive."
   ]
  },
  {
   "cell_type": "code",
   "execution_count": 545,
   "metadata": {},
   "outputs": [],
   "source": [
    "df_resist['resistance'] = 1 / df_resist['S5_mean']"
   ]
  },
  {
   "cell_type": "code",
   "execution_count": 546,
   "metadata": {},
   "outputs": [
    {
     "data": {
      "text/html": [
       "<div>\n",
       "<style scoped>\n",
       "    .dataframe tbody tr th:only-of-type {\n",
       "        vertical-align: middle;\n",
       "    }\n",
       "\n",
       "    .dataframe tbody tr th {\n",
       "        vertical-align: top;\n",
       "    }\n",
       "\n",
       "    .dataframe thead th {\n",
       "        text-align: right;\n",
       "    }\n",
       "</style>\n",
       "<table border=\"1\" class=\"dataframe\">\n",
       "  <thead>\n",
       "    <tr style=\"text-align: right;\">\n",
       "      <th></th>\n",
       "      <th>player_id</th>\n",
       "      <th>weeks</th>\n",
       "      <th>S5_mean</th>\n",
       "      <th>resistance</th>\n",
       "    </tr>\n",
       "  </thead>\n",
       "  <tbody>\n",
       "    <tr>\n",
       "      <th>0</th>\n",
       "      <td>6427001</td>\n",
       "      <td>0</td>\n",
       "      <td>3.900</td>\n",
       "      <td>0.256410</td>\n",
       "    </tr>\n",
       "    <tr>\n",
       "      <th>1</th>\n",
       "      <td>6427001</td>\n",
       "      <td>3</td>\n",
       "      <td>3.900</td>\n",
       "      <td>0.256410</td>\n",
       "    </tr>\n",
       "    <tr>\n",
       "      <th>2</th>\n",
       "      <td>6427001</td>\n",
       "      <td>6</td>\n",
       "      <td>3.875</td>\n",
       "      <td>0.258065</td>\n",
       "    </tr>\n",
       "    <tr>\n",
       "      <th>3</th>\n",
       "      <td>6427027</td>\n",
       "      <td>0</td>\n",
       "      <td>3.800</td>\n",
       "      <td>0.263158</td>\n",
       "    </tr>\n",
       "    <tr>\n",
       "      <th>4</th>\n",
       "      <td>6427027</td>\n",
       "      <td>3</td>\n",
       "      <td>4.000</td>\n",
       "      <td>0.250000</td>\n",
       "    </tr>\n",
       "  </tbody>\n",
       "</table>\n",
       "</div>"
      ],
      "text/plain": [
       "  player_id  weeks  S5_mean  resistance\n",
       "0   6427001      0    3.900    0.256410\n",
       "1   6427001      3    3.900    0.256410\n",
       "2   6427001      6    3.875    0.258065\n",
       "3   6427027      0    3.800    0.263158\n",
       "4   6427027      3    4.000    0.250000"
      ]
     },
     "execution_count": 546,
     "metadata": {},
     "output_type": "execute_result"
    }
   ],
   "source": [
    "df_resist.head()"
   ]
  },
  {
   "cell_type": "markdown",
   "metadata": {},
   "source": [
    "Some questions we can ask:\n",
    "- How many weeks does it take for players to complete this game?\n",
    "- How do the players' drug resistance change over time?"
   ]
  },
  {
   "cell_type": "markdown",
   "metadata": {},
   "source": [
    "How many weeks does it take for players to complete this game?"
   ]
  },
  {
   "cell_type": "code",
   "execution_count": 547,
   "metadata": {},
   "outputs": [
    {
     "data": {
      "image/png": "[encoded data removed]",
      "text/plain": [
       "<Figure size 360x360 with 1 Axes>"
      ]
     },
     "metadata": {},
     "output_type": "display_data"
    }
   ],
   "source": [
    "sns.displot(data=df_resist.groupby('player_id').max()['weeks'])\n",
    "plt.title(\"Weeks spent on completing the game\");"
   ]
  },
  {
   "cell_type": "markdown",
   "metadata": {},
   "source": [
    "We can see there are 3 groups of players:\n",
    "\n",
    "- 0-10 weeks\n",
    "- 10-15 weeks\n",
    "- 20-25 weeks"
   ]
  },
  {
   "cell_type": "markdown",
   "metadata": {},
   "source": [
    "How do players' drug resistance change over time for each group?"
   ]
  },
  {
   "cell_type": "code",
   "execution_count": 548,
   "metadata": {},
   "outputs": [],
   "source": [
    "# 0-5 weeks\n",
    "player_list_0_5 = df_resist.groupby('player_id').max().query(\"weeks < 10\").index\n",
    "# 10-15 weeks\n",
    "player_list_10_15 = df_resist.groupby('player_id').max().query(\"10 <= weeks < 15\").index\n",
    "# 20-25 weeks\n",
    "player_list_20_25 = df_resist.groupby('player_id').max().query(\"20 <= weeks <= 25\").index"
   ]
  },
  {
   "cell_type": "code",
   "execution_count": 549,
   "metadata": {},
   "outputs": [
    {
     "data": {
      "image/png": "[encoded data removed]",
      "text/plain": [
       "<Figure size 1080x360 with 3 Axes>"
      ]
     },
     "metadata": {},
     "output_type": "display_data"
    }
   ],
   "source": [
    "fig, axes = plt.subplots(1, 3, sharey=True, figsize=(15, 5))\n",
    "\n",
    "fig.suptitle('Change in drug resistance')\n",
    "axes[0].set_title('0-5 Weeks')\n",
    "axes[1].set_title('10-15 Weeks')\n",
    "axes[2].set_title('20-25 Weeks')\n",
    "\n",
    "sns.regplot(ax=axes[0], x='weeks', y='resistance', data=df_resist.where(df_resist['player_id'].isin(player_list_0_5)), x_estimator=np.mean)\n",
    "sns.regplot(ax=axes[1], x='weeks', y='resistance', data=df_resist.where(df_resist['player_id'].isin(player_list_10_15)), x_estimator=np.mean)\n",
    "sns.regplot(ax=axes[2], x='weeks', y='resistance', data=df_resist.where(df_resist['player_id'].isin(player_list_20_25)), x_estimator=np.mean);"
   ]
  },
  {
   "cell_type": "markdown",
   "metadata": {},
   "source": [
    "It looks like on average, players who spent the least time completing the game experienced steeper decreases in drug resistance ratings.\n",
    "\n",
    "***Potential research question: is drug resistance rating associated with playing time in some way?***"
   ]
  },
  {
   "cell_type": "markdown",
   "metadata": {},
   "source": [
    "Moving on to the main dataset, `logs.csv`"
   ]
  },
  {
   "cell_type": "code",
   "execution_count": 550,
   "metadata": {},
   "outputs": [],
   "source": [
    "df_log = pd.read_csv(\"Data/logs.csv\", low_memory=False)"
   ]
  },
  {
   "cell_type": "markdown",
   "metadata": {},
   "source": [
    "This dataset is large, so let's focus on just one player first."
   ]
  },
  {
   "cell_type": "code",
   "execution_count": 551,
   "metadata": {},
   "outputs": [],
   "source": [
    "player_a = df_log['player_id'][0]\n",
    "df_player_a = df_log.query(f\"player_id == {player_a}\")"
   ]
  },
  {
   "cell_type": "markdown",
   "metadata": {},
   "source": [
    "This game is divided into 12 scenes (\"stacks\"). Each with a different theme. See `Spreadsheets\\ChallengeStacksData.xlsx` for details on each stack."
   ]
  },
  {
   "cell_type": "code",
   "execution_count": 552,
   "metadata": {},
   "outputs": [],
   "source": [
    "# keys are stack ids, values are stack themes\n",
    "stacks = {\n",
    "    0: \"Cheaters\",\n",
    "    1: \"Poolside\",\n",
    "    2: \"Kissing\",\n",
    "    3: \"Pills\",\n",
    "    4: \"Misbehavin'\",\n",
    "    5: \"New Year's\",\n",
    "    6: \"Serious\",\n",
    "    7: \"Racing\",\n",
    "    8: \"Scare\",\n",
    "    9: \"Prom\",\n",
    "    10: \"Confide\",\n",
    "    11: \"First Job\",\n",
    "    12: \"Tutorial\"\n",
    "}"
   ]
  },
  {
   "cell_type": "markdown",
   "metadata": {},
   "source": [
    "How long does this player spend on each stack? We can write a function for this:"
   ]
  },
  {
   "cell_type": "code",
   "execution_count": 553,
   "metadata": {},
   "outputs": [],
   "source": [
    "def stack_play_time(player_id):\n",
    "    '''\n",
    "    calculates the amount of time a player spends on each stack\n",
    "    '''\n",
    "    df_player = df_log.query(f\"player_id == {player_id}\")\n",
    "    play_history = df_player.dropna(subset=['stack_id'])[['stack_id', 'event_time_dbl']].groupby('stack_id').max()\n",
    "    # need to sort by event_time_dbl because players don't necessarily go through stacks in numerical order\n",
    "    play_history.sort_values(by='event_time_dbl', inplace=True)\n",
    "    play_times = play_history.diff()\n",
    "    play_times.rename(columns={'event_time_dbl': 'play_time'}, inplace=True)\n",
    "    # we don't care about the tutorial\n",
    "    play_times.drop(index=12, inplace=True)\n",
    "    play_times.sort_index(inplace=True)\n",
    "    play_times['description'] = [stacks[x] for x in play_times.index]\n",
    "    play_times['player_id'] = player_id\n",
    "    play_times = play_times[['player_id', 'play_time', 'description']]\n",
    "    play_times.reset_index(inplace=True)\n",
    "    play_times['stack_id'] = play_times['stack_id'].astype(int)\n",
    "    return play_times"
   ]
  },
  {
   "cell_type": "code",
   "execution_count": 554,
   "metadata": {},
   "outputs": [
    {
     "data": {
      "text/html": [
       "<div>\n",
       "<style scoped>\n",
       "    .dataframe tbody tr th:only-of-type {\n",
       "        vertical-align: middle;\n",
       "    }\n",
       "\n",
       "    .dataframe tbody tr th {\n",
       "        vertical-align: top;\n",
       "    }\n",
       "\n",
       "    .dataframe thead th {\n",
       "        text-align: right;\n",
       "    }\n",
       "</style>\n",
       "<table border=\"1\" class=\"dataframe\">\n",
       "  <thead>\n",
       "    <tr style=\"text-align: right;\">\n",
       "      <th></th>\n",
       "      <th>stack_id</th>\n",
       "      <th>player_id</th>\n",
       "      <th>play_time</th>\n",
       "      <th>description</th>\n",
       "    </tr>\n",
       "  </thead>\n",
       "  <tbody>\n",
       "    <tr>\n",
       "      <th>0</th>\n",
       "      <td>0</td>\n",
       "      <td>6427001</td>\n",
       "      <td>3835.0</td>\n",
       "      <td>Cheaters</td>\n",
       "    </tr>\n",
       "    <tr>\n",
       "      <th>1</th>\n",
       "      <td>1</td>\n",
       "      <td>6427001</td>\n",
       "      <td>1588.0</td>\n",
       "      <td>Poolside</td>\n",
       "    </tr>\n",
       "    <tr>\n",
       "      <th>2</th>\n",
       "      <td>2</td>\n",
       "      <td>6427001</td>\n",
       "      <td>2402.0</td>\n",
       "      <td>Kissing</td>\n",
       "    </tr>\n",
       "    <tr>\n",
       "      <th>3</th>\n",
       "      <td>3</td>\n",
       "      <td>6427001</td>\n",
       "      <td>1388.0</td>\n",
       "      <td>Pills</td>\n",
       "    </tr>\n",
       "    <tr>\n",
       "      <th>4</th>\n",
       "      <td>4</td>\n",
       "      <td>6427001</td>\n",
       "      <td>1867.0</td>\n",
       "      <td>Misbehavin'</td>\n",
       "    </tr>\n",
       "    <tr>\n",
       "      <th>5</th>\n",
       "      <td>5</td>\n",
       "      <td>6427001</td>\n",
       "      <td>3045.0</td>\n",
       "      <td>New Year's</td>\n",
       "    </tr>\n",
       "    <tr>\n",
       "      <th>6</th>\n",
       "      <td>6</td>\n",
       "      <td>6427001</td>\n",
       "      <td>2972.0</td>\n",
       "      <td>Serious</td>\n",
       "    </tr>\n",
       "    <tr>\n",
       "      <th>7</th>\n",
       "      <td>7</td>\n",
       "      <td>6427001</td>\n",
       "      <td>1925.0</td>\n",
       "      <td>Racing</td>\n",
       "    </tr>\n",
       "    <tr>\n",
       "      <th>8</th>\n",
       "      <td>8</td>\n",
       "      <td>6427001</td>\n",
       "      <td>2809.0</td>\n",
       "      <td>Scare</td>\n",
       "    </tr>\n",
       "    <tr>\n",
       "      <th>9</th>\n",
       "      <td>9</td>\n",
       "      <td>6427001</td>\n",
       "      <td>1025.0</td>\n",
       "      <td>Prom</td>\n",
       "    </tr>\n",
       "    <tr>\n",
       "      <th>10</th>\n",
       "      <td>10</td>\n",
       "      <td>6427001</td>\n",
       "      <td>5736.0</td>\n",
       "      <td>Confide</td>\n",
       "    </tr>\n",
       "    <tr>\n",
       "      <th>11</th>\n",
       "      <td>11</td>\n",
       "      <td>6427001</td>\n",
       "      <td>8041.0</td>\n",
       "      <td>First Job</td>\n",
       "    </tr>\n",
       "  </tbody>\n",
       "</table>\n",
       "</div>"
      ],
      "text/plain": [
       "    stack_id  player_id  play_time  description\n",
       "0          0    6427001     3835.0     Cheaters\n",
       "1          1    6427001     1588.0     Poolside\n",
       "2          2    6427001     2402.0      Kissing\n",
       "3          3    6427001     1388.0        Pills\n",
       "4          4    6427001     1867.0  Misbehavin'\n",
       "5          5    6427001     3045.0   New Year's\n",
       "6          6    6427001     2972.0      Serious\n",
       "7          7    6427001     1925.0       Racing\n",
       "8          8    6427001     2809.0        Scare\n",
       "9          9    6427001     1025.0         Prom\n",
       "10        10    6427001     5736.0      Confide\n",
       "11        11    6427001     8041.0    First Job"
      ]
     },
     "execution_count": 554,
     "metadata": {},
     "output_type": "execute_result"
    }
   ],
   "source": [
    "stack_play_time(player_a)"
   ]
  },
  {
   "cell_type": "code",
   "execution_count": 555,
   "metadata": {},
   "outputs": [
    {
     "data": {
      "image/png": "[encoded data removed]",
      "text/plain": [
       "<Figure size 432x288 with 1 Axes>"
      ]
     },
     "metadata": {},
     "output_type": "display_data"
    }
   ],
   "source": [
    "sns.barplot(x='stack_id', y='play_time', data=stack_play_time(player_a), color='black')\n",
    "plt.title(f\"Play time for each stack for player {player_a}\");"
   ]
  },
  {
   "cell_type": "markdown",
   "metadata": {},
   "source": [
    "Now, let's take a look at this metric on an aggregate level."
   ]
  },
  {
   "cell_type": "code",
   "execution_count": 556,
   "metadata": {},
   "outputs": [],
   "source": [
    "df_play_time = pd.concat([stack_play_time(player) for player in df_log['player_id'].unique()])"
   ]
  },
  {
   "cell_type": "code",
   "execution_count": 557,
   "metadata": {},
   "outputs": [
    {
     "data": {
      "image/png": "[encoded data removed]",
      "text/plain": [
       "<Figure size 432x288 with 1 Axes>"
      ]
     },
     "metadata": {},
     "output_type": "display_data"
    }
   ],
   "source": [
    "sns.barplot(x=np.arange(12), y='play_time', data=df_play_time.groupby('stack_id').median(), color='black')\n",
    "plt.title(\"Median play time for each stack for all players\");"
   ]
  },
  {
   "cell_type": "markdown",
   "metadata": {},
   "source": [
    "We ultimately want to connect play time to drug resistance. So let's dig more into drug-related data."
   ]
  },
  {
   "cell_type": "markdown",
   "metadata": {},
   "source": [
    "Some knowledge mini-games have about drugs, in those mini-games, players are prompted to select a fact card they agree with.\n",
    "\n",
    "We can find fact cards about drugs in `Spreadsheets\\KnowledgeMinigameData.xlsx`"
   ]
  },
  {
   "cell_type": "code",
   "execution_count": 558,
   "metadata": {},
   "outputs": [],
   "source": [
    "df_knowledge = pd.read_excel(\"Spreadsheets\\KnowledgeMinigameData.xlsx\", sheet_name='gamedata', header=1, index_col='id')"
   ]
  },
  {
   "cell_type": "markdown",
   "metadata": {},
   "source": [
    "We are interested in fact cards about drugs. We can look for the keyword \"drug\" in the descriptions."
   ]
  },
  {
   "cell_type": "code",
   "execution_count": 559,
   "metadata": {},
   "outputs": [
    {
     "name": "stdout",
     "output_type": "stream",
     "text": [
      "Factcard ID 19: Using drugs not prescribed by a doctor specifically for you can cause serious health problems, even death.\n",
      "Factcard ID 21: Even using drugs a few times can quickly change to an addiction. \n",
      "Factcard ID 22: Using any drug can be more dangerous when taken with alcohol or other drugs.\n",
      "Factcard ID 26: Teens who drink are more likely to put themselves in situations like unsafe sex and drug use.\n",
      "Factcard ID 31: Teens who think about their future are less likely to engage in risky behaviors such as doing drugs or drinking alcohol.\n"
     ]
    }
   ],
   "source": [
    "for i in range(32): # there are 31 knowledge mini games in total\n",
    "    if 'drug' in df_knowledge.at[i, 'description']:\n",
    "        print(f\"Factcard ID {i}: {df_knowledge.at[i, 'description']}\")"
   ]
  },
  {
   "cell_type": "markdown",
   "metadata": {},
   "source": [
    "We can calculate the time a player spends on drug related mini games."
   ]
  },
  {
   "cell_type": "code",
   "execution_count": 560,
   "metadata": {},
   "outputs": [],
   "source": [
    "def drug_mini_levels(player_id):\n",
    "    drug_fact_cards = ['FactCardData_id:19]', 'FactCardData_id:21]', 'FactCardData_id:22]', 'FactCardData_id:26]', 'FactCardData_id:31]']\n",
    "    # find out which levels are associated with drugs card by card\n",
    "    levels = []\n",
    "    for card in drug_fact_cards:\n",
    "        df_card = df_log.query(f\"player_id=={player_id} & fact_card_id=='{card}'\")\n",
    "        # find out the levels this fact card appears in\n",
    "        card_levels = df_card['minigame_level'].unique()\n",
    "        [levels.append(l) for l in card_levels if l not in levels]\n",
    "    # these are all the drug-related mini game levels for this player\n",
    "    levels = sorted([int(l) for l in levels])\n",
    "    return levels"
   ]
  },
  {
   "cell_type": "code",
   "execution_count": 561,
   "metadata": {},
   "outputs": [],
   "source": [
    "def level_play_time(player_id, level):\n",
    "    \"\"\"\n",
    "    calculates the amount of time a player spends on a certain level of a knowledge mini game\n",
    "    \"\"\"\n",
    "    df_player = df_log.query(f\"player_id == {player_id}\")\n",
    "    # event 400 starts mini game \n",
    "    # event id 103, 420, 1002, 1003 end mini game\n",
    "    df_level = df_player.query(\"event_id == 400 | event_id == 420 | event_id == 1002\")\n",
    "    df_level = df_level.query(f\"minigame_level == {level}\")\n",
    "    df_level = pd.concat([df_level, df_player.query(\"event_id == 103 | event_id == 1003\")], axis=0)\n",
    "    df_level.sort_values(by=['event_time_dbl'], inplace=True)\n",
    "    df_level.reset_index(drop=True, inplace=True)\n",
    "\n",
    "    # return df_level\n",
    "    # sometimes players click away and generate new 400 events, so we need to drop the extra 400 events\n",
    "    \n",
    "    # after this loop, we will have alternating rows of 400 and (103/420/1002/1003) events\n",
    "    first_400_idx = df_level.query(\"event_id == 400\").index[0]\n",
    "    last_400_idx = df_level.query(\"event_id == 400\").index[-1]\n",
    "    df_level = df_level.loc[first_400_idx:last_400_idx+1]\n",
    "\n",
    "    df_level.reset_index(drop=True, inplace=True)\n",
    "    i = 0\n",
    "    drop = []\n",
    "    while i < len(df_level)-1:\n",
    "        # we want all neighboring (400/non-400) pairs\n",
    "        curr_id = df_level.at[i, 'event_id']\n",
    "        next_id = df_level.at[i+1, 'event_id']\n",
    "\n",
    "        if curr_id == 400 and next_id != 400:\n",
    "            i += 2 # we want this\n",
    "        else:\n",
    "            drop.append(i)\n",
    "            i += 1\n",
    "\n",
    "    df_level.drop(index=drop, inplace=True)\n",
    "    df_level.reset_index(drop=True, inplace=True)\n",
    "\n",
    "    # after this loop, we will take out edge cases where the player quit halfway\n",
    "    k = 1\n",
    "    drop = []\n",
    "    while k <= len(df_level)-1:\n",
    "        # we want all neighboring pairs to be on the same day\n",
    "        curr_date = df_level.at[k, 'date']\n",
    "        prev_date = df_level.at[k-1, 'date']\n",
    "        if curr_date != prev_date:\n",
    "            drop += [k, k-1]\n",
    "        k += 2\n",
    "    \n",
    "    df_level.drop(index=drop, inplace=True)\n",
    "    df_level.reset_index(drop=True, inplace=True)\n",
    "\n",
    "    # calculate the play time for each interval\n",
    "    play_time = 0\n",
    "    for j in range(1, len(df_level), 2):\n",
    "        play_start = df_level.at[j-1, 'event_time_dbl']\n",
    "        play_end = df_level.at[j, 'event_time_dbl']\n",
    "        # if the player exited in less than a minute, discard this record\n",
    "        duration = play_end - play_start\n",
    "        if duration >= 60:\n",
    "            play_time += duration\n",
    "    # this is the total amount of time this player spent on this mini game\n",
    "    return play_time"
   ]
  },
  {
   "cell_type": "code",
   "execution_count": 562,
   "metadata": {},
   "outputs": [],
   "source": [
    "def drug_mini_play_time(player_id):\n",
    "    levels = drug_mini_levels(player_id)\n",
    "    play_time = [level_play_time(player_id, l) for l in levels]\n",
    "    df_play_time = pd.DataFrame({'player_id':player_id, 'level':levels, 'play_time':play_time})\n",
    "    return df_play_time"
   ]
  },
  {
   "cell_type": "markdown",
   "metadata": {},
   "source": [
    "For our player, the play time for all drug-related mini games is:"
   ]
  },
  {
   "cell_type": "code",
   "execution_count": 563,
   "metadata": {},
   "outputs": [
    {
     "data": {
      "text/html": [
       "<div>\n",
       "<style scoped>\n",
       "    .dataframe tbody tr th:only-of-type {\n",
       "        vertical-align: middle;\n",
       "    }\n",
       "\n",
       "    .dataframe tbody tr th {\n",
       "        vertical-align: top;\n",
       "    }\n",
       "\n",
       "    .dataframe thead th {\n",
       "        text-align: right;\n",
       "    }\n",
       "</style>\n",
       "<table border=\"1\" class=\"dataframe\">\n",
       "  <thead>\n",
       "    <tr style=\"text-align: right;\">\n",
       "      <th></th>\n",
       "      <th>player_id</th>\n",
       "      <th>level</th>\n",
       "      <th>play_time</th>\n",
       "    </tr>\n",
       "  </thead>\n",
       "  <tbody>\n",
       "    <tr>\n",
       "      <th>0</th>\n",
       "      <td>6427001</td>\n",
       "      <td>1</td>\n",
       "      <td>447</td>\n",
       "    </tr>\n",
       "    <tr>\n",
       "      <th>1</th>\n",
       "      <td>6427001</td>\n",
       "      <td>2</td>\n",
       "      <td>999</td>\n",
       "    </tr>\n",
       "    <tr>\n",
       "      <th>2</th>\n",
       "      <td>6427001</td>\n",
       "      <td>3</td>\n",
       "      <td>879</td>\n",
       "    </tr>\n",
       "    <tr>\n",
       "      <th>3</th>\n",
       "      <td>6427001</td>\n",
       "      <td>5</td>\n",
       "      <td>1706</td>\n",
       "    </tr>\n",
       "  </tbody>\n",
       "</table>\n",
       "</div>"
      ],
      "text/plain": [
       "   player_id  level  play_time\n",
       "0    6427001      1        447\n",
       "1    6427001      2        999\n",
       "2    6427001      3        879\n",
       "3    6427001      5       1706"
      ]
     },
     "execution_count": 563,
     "metadata": {},
     "output_type": "execute_result"
    }
   ],
   "source": [
    "drug_mini_play_time(player_a)"
   ]
  },
  {
   "cell_type": "markdown",
   "metadata": {},
   "source": [
    "Stack 3 is also about drugs. Stack 3 play time for our player is:"
   ]
  },
  {
   "cell_type": "code",
   "execution_count": 564,
   "metadata": {},
   "outputs": [
    {
     "data": {
      "text/plain": [
       "1388.0"
      ]
     },
     "execution_count": 564,
     "metadata": {},
     "output_type": "execute_result"
    }
   ],
   "source": [
    "stack_play_time(player_a).query(\"stack_id == 3\")['play_time'].values[0]"
   ]
  },
  {
   "cell_type": "markdown",
   "metadata": {},
   "source": [
    "We can get our player's total drug-related play time by adding the mini game play time to the stack 3 play time:"
   ]
  },
  {
   "cell_type": "code",
   "execution_count": 565,
   "metadata": {},
   "outputs": [],
   "source": [
    "def total_drug_play_time(player_id):\n",
    "    stack_3 = stack_play_time(player_a).query(\"stack_id == 3\")['play_time'].values[0]\n",
    "    mini_game = drug_mini_play_time(player_id)['play_time'].sum()\n",
    "    return stack_3 + mini_game"
   ]
  },
  {
   "cell_type": "code",
   "execution_count": 566,
   "metadata": {},
   "outputs": [
    {
     "data": {
      "text/plain": [
       "5419.0"
      ]
     },
     "execution_count": 566,
     "metadata": {},
     "output_type": "execute_result"
    }
   ],
   "source": [
    "total_drug_play_time(player_a)"
   ]
  },
  {
   "cell_type": "markdown",
   "metadata": {},
   "source": [
    "What about all players?"
   ]
  },
  {
   "cell_type": "code",
   "execution_count": 567,
   "metadata": {},
   "outputs": [],
   "source": [
    "all_players = list(df_log['player_id'].unique())\n",
    "# this takes about 2 minutes\n",
    "df_drug_play_time = pd.DataFrame({'player_id':all_players, 'drug_play_time':[total_drug_play_time(p) for p in all_players]})"
   ]
  },
  {
   "cell_type": "code",
   "execution_count": 568,
   "metadata": {},
   "outputs": [
    {
     "data": {
      "image/png": "[encoded data removed]",
      "text/plain": [
       "<Figure size 360x360 with 1 Axes>"
      ]
     },
     "metadata": {},
     "output_type": "display_data"
    }
   ],
   "source": [
    "sns.displot(x='drug_play_time', data=df_drug_play_time)\n",
    "plt.title(\"Distribution of drug-related play time, all players\");"
   ]
  },
  {
   "cell_type": "markdown",
   "metadata": {},
   "source": [
    "What we really want to do is to make this play time cumulative so we get a time-series of each player's drug-related play time as the player progresses through the game."
   ]
  },
  {
   "cell_type": "code",
   "execution_count": null,
   "metadata": {},
   "outputs": [],
   "source": []
  },
  {
   "cell_type": "markdown",
   "metadata": {},
   "source": [
    "Another thing we can try to figure out is how much time each player spent on each mini game."
   ]
  },
  {
   "cell_type": "code",
   "execution_count": 571,
   "metadata": {},
   "outputs": [],
   "source": [
    "df_player_a.sort_values(by=['event_time_dbl'], inplace=True)"
   ]
  },
  {
   "cell_type": "code",
   "execution_count": 965,
   "metadata": {},
   "outputs": [],
   "source": [
    "def mini_play_time_v2(player_id):\n",
    "    # initialize two dictionaries that contains game play times\n",
    "    cumulative_play_time = {\n",
    "        'knowledge': {x:0 for x in range(10)},\n",
    "        'priority': {x:0 for x in range(10)},\n",
    "        'people': {x:0 for x in range(10)},\n",
    "        'refusal': {x:0 for x in range(10)}\n",
    "    }\n",
    "\n",
    "    completion_time = {\n",
    "        'knowledge': {x:0 for x in range(10)},\n",
    "        'priority': {x:0 for x in range(10)},\n",
    "        'people': {x:0 for x in range(10)},\n",
    "        'refusal': {x:0 for x in range(10)}\n",
    "    }\n",
    "\n",
    "    # filter out data about this player\n",
    "    df_player = df_log.query(f\"player_id == {player_id}\")\n",
    "    player_events = df_player['event_id']\n",
    "    # look for all 1003 events\n",
    "    event_1003 = player_events[player_events == 1003]\n",
    "    # iteratively go through all 1003 events\n",
    "    for i in event_1003.index:\n",
    "        # check if next row is 1004\n",
    "        if player_events[i+1] == 1004:\n",
    "            # if next row != 1004, we don't care about this entry\n",
    "            # if next row == 1004, this means the player has chosen to start the mini game\n",
    "            # log current time to \"start the stopwatch\"\n",
    "            start_time = df_player.at[i, 'event_time_dbl']\n",
    "            curr_type = ''\n",
    "            # get minigame_id in the 1003 row (0=Knowledge, 1=Priority, 2=People, 3=Refusal)\n",
    "            minigame_id = df_player.at[i, 'minigame_id']\n",
    "            if minigame_id == 0:\n",
    "                curr_type = 'knowledge'\n",
    "            elif minigame_id == 1:\n",
    "                curr_type = 'priority'\n",
    "            elif minigame_id == 2:\n",
    "                curr_type = 'people'\n",
    "            elif minigame_id == 3:\n",
    "                curr_type = 'refusal'\n",
    "            # get minigame_level in the 1004 row\n",
    "            curr_level = int(df_player.at[i+1, 'minigame_level'])\n",
    "\n",
    "            # what does the player do next?\n",
    "            def get_next_action(curr_idx, next_symbols):\n",
    "                remaining_actions = player_events.loc[curr_idx:]\n",
    "                remaining_actions = remaining_actions[remaining_actions.isin(next_symbols)]\n",
    "                next_action = remaining_actions.values[0]\n",
    "                next_action_idx = remaining_actions.index[0]\n",
    "                return next_action_idx, next_action\n",
    "            \n",
    "            next_action_idx, next_action = get_next_action(i, [103, 1002, 1005])\n",
    "\n",
    "            # if player leaves game (103/1002), store how much time is spent on this game\n",
    "            if next_action in [103, 1002]:\n",
    "                end_time = df_player.at[next_action_idx, 'event_time_dbl']\n",
    "                duration = end_time - start_time\n",
    "                # if this session lasted longer than 60 seconds, record this\n",
    "                if duration >= 60:\n",
    "                    cumulative_play_time[curr_type][curr_level] += duration\n",
    "            # if player completes the game (1005), we want to look for the next (103/1002/1001)\n",
    "            # in other words, where the player exited the game by completing it or quitting\n",
    "            elif next_action == 1005:\n",
    "                next_action_idx, next_action = get_next_action(next_action_idx, [103, 1002, 1001])\n",
    "                end_time = df_player.at[next_action_idx, 'event_time_dbl']\n",
    "                duration = end_time - start_time\n",
    "                cumulative_play_time[curr_type][curr_level] += duration\n",
    "                # the next action is 1001, this means the player has completed the game\n",
    "                if next_action == 1001:\n",
    "                    completed_on = end_time\n",
    "                    # updated if this is larger than the current entry\n",
    "                    if completed_on > completion_time[curr_type][curr_level]:\n",
    "                        completion_time[curr_type][curr_level] = completed_on\n",
    "    \n",
    "    # package everything into a dataframe\n",
    "    rtn_idx = []\n",
    "    for game_type in ['kn', 'pr', 'pe', 're']:\n",
    "        for level in range(10):\n",
    "            rtn_idx.append(game_type + f'{level}')\n",
    "    df_rtn = pd.DataFrame(columns=['player_id', 'type', 'level', 'play_time', 'completed_on'], index=rtn_idx)\n",
    "    # unpack the first dictionary with information about play time\n",
    "    for game_type, levels in cumulative_play_time.items():\n",
    "        for level, play_time in levels.items():\n",
    "            idx = game_type[:2] + str(level)\n",
    "            df_rtn.at[idx, 'type'] = game_type\n",
    "            df_rtn.at[idx, 'level'] = level\n",
    "            df_rtn.at[idx, 'play_time'] = play_time\n",
    "    # unpack the second dictionary with information about completion time\n",
    "    for game_type, levels in completion_time.items():\n",
    "            for level, completed_on in levels.items():\n",
    "                idx = game_type[:2] + str(level)\n",
    "                df_rtn.at[idx, 'completed_on'] = completed_on\n",
    "    df_rtn['player_id'] = player_id\n",
    "    df_rtn.reset_index(inplace=True, drop=True)\n",
    "    df_rtn = df_rtn[df_rtn['completed_on'] != 0]\n",
    "    df_rtn.sort_values(by=['completed_on'], inplace=True)\n",
    "\n",
    "    return df_rtn"
   ]
  },
  {
   "cell_type": "code",
   "execution_count": null,
   "metadata": {},
   "outputs": [],
   "source": []
  },
  {
   "cell_type": "code",
   "execution_count": 1034,
   "metadata": {},
   "outputs": [],
   "source": [
    "def mini_play_time(player_id):\n",
    "    # initialize return dataframe\n",
    "    rtn_idx = []\n",
    "    for game_type in ['kn', 'pr', 'pe', 're']:\n",
    "        for level in range(10):\n",
    "            rtn_idx.append(game_type + f'{level}')\n",
    "    df_rtn = pd.DataFrame(\n",
    "        columns=['player_id', 'game_type', 'game_level', 'play_time', 'last_interaction'], \n",
    "        index=rtn_idx,\n",
    "        data={\n",
    "            'player_id':player_id, \n",
    "            'game_type':['knowledge']*10 + ['priority']*10 + ['people']*10 + ['refusal']*10,\n",
    "            'game_level':list(range(10))*4,\n",
    "            'play_time':[0]*40,\n",
    "            'completed_on':[0]*40\n",
    "            }\n",
    "        )\n",
    "    # initialize event log dataframe\n",
    "    df_sessions = pd.DataFrame(columns=['session_id', 'status', 'event_id', 'row_id', 'time', 'game'])\n",
    "\n",
    "    # only keep data about this player\n",
    "    df_player = df_log.query(f\"player_id == {player_id}\")\n",
    "    player_events = df_player['event_id']\n",
    "\n",
    "    # an event 1003 followed by event 1004 indicates game start\n",
    "    event_1003 = player_events[player_events == 1003]\n",
    "    session_starts = []\n",
    "    for idx_1003 in event_1003.index:\n",
    "        if df_player.at[idx_1003+1, 'event_id'] == 1004:\n",
    "            session_starts.append(idx_1003)\n",
    "    \n",
    "    for i in range(len(session_starts)):\n",
    "        \n",
    "        curr_idx = session_starts[i] # this is the index of event 1003\n",
    "        start_time = df_player.at[i, 'event_time_dbl']\n",
    "        # get minigame_id in the 1003 row (0=Knowledge, 1=Priority, 2=People, 3=Refusal)\n",
    "        minigame_id = df_player.at[i, 'minigame_id']\n",
    "        curr_type = ''\n",
    "        if minigame_id == 0:\n",
    "            curr_type = 'kn'\n",
    "        elif minigame_id == 1:\n",
    "            curr_type = 'pr'\n",
    "        elif minigame_id == 2:\n",
    "            curr_type = 'pe'\n",
    "        elif minigame_id == 3:\n",
    "            curr_type = 're'\n",
    "        # get minigame_level in the 1004 row\n",
    "        curr_level = int(df_player.at[curr_idx+1, 'minigame_level'])\n",
    "        game = curr_type + str(curr_level)\n",
    "\n",
    "        # log this into the session dataframe\n",
    "        df_sessions = pd.concat([\n",
    "            df_sessions,\n",
    "            pd.DataFrame(\n",
    "                data={'session_id':i, \n",
    "                'status':'enter',\n",
    "                'event_id':1003,\n",
    "                'row_id':df_player.at[curr_idx, 'row_id'],\n",
    "                'time':start_time,\n",
    "                'game':game},\n",
    "                index=[0])], \n",
    "            ignore_index=True)\n",
    "\n",
    "        # window to look for a session end\n",
    "        if i == len(session_starts)-1:\n",
    "            events_window = player_events[i:]\n",
    "        else:\n",
    "            events_window = player_events[session_starts[i]:session_starts[i+1]]\n",
    "\n",
    "        # events (103/1002/1001) end the session\n",
    "        session_ends = [103, 1002, 1001]\n",
    "        for e_idx in events_window.index:\n",
    "            if  events_window[e_idx] in session_ends:\n",
    "                # log this into the session dataframe\n",
    "                df_sessions = pd.concat([df_sessions,\n",
    "                    pd.DataFrame({'session_id':i, \n",
    "                    'status':'exit',\n",
    "                    'event_id':events_window[e_idx],\n",
    "                    'row_id':df_player.at[e_idx, 'row_id'],\n",
    "                    'time':df_player.at[e_idx, 'event_time_dbl'],\n",
    "                    'game':game})], ignore_index=True)\n",
    "                # calculate session duration\n",
    "                end_time = df_player.at[e_idx, 'event_time_dbl']\n",
    "                duration = start_time - end_time\n",
    "                # if the player stayed for at least 60 seconds, update this\n",
    "                if duration >= 60:\n",
    "                    # variable game is an index, e.g. kn0 for Knowledge Level 0\n",
    "                    df_rtn.at[game, 'play_time'] += duration\n",
    "                    df_rtn.at[game, 'last_interaction'] = end_time\n",
    "                break\n",
    "    return df_rtn, df_sessions\n"
   ]
  },
  {
   "cell_type": "code",
   "execution_count": 1035,
   "metadata": {},
   "outputs": [
    {
     "ename": "ValueError",
     "evalue": "If using all scalar values, you must pass an index",
     "output_type": "error",
     "traceback": [
      "\u001b[1;31m---------------------------------------------------------------------------\u001b[0m",
      "\u001b[1;31mValueError\u001b[0m                                Traceback (most recent call last)",
      "\u001b[1;32m<ipython-input-1035-ca367e176fc8>\u001b[0m in \u001b[0;36m<module>\u001b[1;34m\u001b[0m\n\u001b[1;32m----> 1\u001b[1;33m \u001b[0ma_r\u001b[0m\u001b[1;33m,\u001b[0m \u001b[0ma_s\u001b[0m \u001b[1;33m=\u001b[0m \u001b[0mmini_play_time\u001b[0m\u001b[1;33m(\u001b[0m\u001b[0mplayer_a\u001b[0m\u001b[1;33m)\u001b[0m\u001b[1;33m\u001b[0m\u001b[1;33m\u001b[0m\u001b[0m\n\u001b[0m",
      "\u001b[1;32m<ipython-input-1034-55c6338cc98f>\u001b[0m in \u001b[0;36mmini_play_time\u001b[1;34m(player_id)\u001b[0m\n\u001b[0;32m     51\u001b[0m         \u001b[1;31m# log this into the session dataframe\u001b[0m\u001b[1;33m\u001b[0m\u001b[1;33m\u001b[0m\u001b[1;33m\u001b[0m\u001b[0m\n\u001b[0;32m     52\u001b[0m         df_sessions = pd.concat([df_sessions,\n\u001b[1;32m---> 53\u001b[1;33m             pd.DataFrame({'session_id':i, \n\u001b[0m\u001b[0;32m     54\u001b[0m             \u001b[1;34m'status'\u001b[0m\u001b[1;33m:\u001b[0m\u001b[1;34m'enter'\u001b[0m\u001b[1;33m,\u001b[0m\u001b[1;33m\u001b[0m\u001b[1;33m\u001b[0m\u001b[0m\n\u001b[0;32m     55\u001b[0m             \u001b[1;34m'event_id'\u001b[0m\u001b[1;33m:\u001b[0m\u001b[1;36m1003\u001b[0m\u001b[1;33m,\u001b[0m\u001b[1;33m\u001b[0m\u001b[1;33m\u001b[0m\u001b[0m\n",
      "\u001b[1;32mD:\\Applications\\Anaconda\\lib\\site-packages\\pandas\\core\\frame.py\u001b[0m in \u001b[0;36m__init__\u001b[1;34m(self, data, index, columns, dtype, copy)\u001b[0m\n\u001b[0;32m    466\u001b[0m \u001b[1;33m\u001b[0m\u001b[0m\n\u001b[0;32m    467\u001b[0m         \u001b[1;32melif\u001b[0m \u001b[0misinstance\u001b[0m\u001b[1;33m(\u001b[0m\u001b[0mdata\u001b[0m\u001b[1;33m,\u001b[0m \u001b[0mdict\u001b[0m\u001b[1;33m)\u001b[0m\u001b[1;33m:\u001b[0m\u001b[1;33m\u001b[0m\u001b[1;33m\u001b[0m\u001b[0m\n\u001b[1;32m--> 468\u001b[1;33m             \u001b[0mmgr\u001b[0m \u001b[1;33m=\u001b[0m \u001b[0minit_dict\u001b[0m\u001b[1;33m(\u001b[0m\u001b[0mdata\u001b[0m\u001b[1;33m,\u001b[0m \u001b[0mindex\u001b[0m\u001b[1;33m,\u001b[0m \u001b[0mcolumns\u001b[0m\u001b[1;33m,\u001b[0m \u001b[0mdtype\u001b[0m\u001b[1;33m=\u001b[0m\u001b[0mdtype\u001b[0m\u001b[1;33m)\u001b[0m\u001b[1;33m\u001b[0m\u001b[1;33m\u001b[0m\u001b[0m\n\u001b[0m\u001b[0;32m    469\u001b[0m         \u001b[1;32melif\u001b[0m \u001b[0misinstance\u001b[0m\u001b[1;33m(\u001b[0m\u001b[0mdata\u001b[0m\u001b[1;33m,\u001b[0m \u001b[0mma\u001b[0m\u001b[1;33m.\u001b[0m\u001b[0mMaskedArray\u001b[0m\u001b[1;33m)\u001b[0m\u001b[1;33m:\u001b[0m\u001b[1;33m\u001b[0m\u001b[1;33m\u001b[0m\u001b[0m\n\u001b[0;32m    470\u001b[0m             \u001b[1;32mimport\u001b[0m \u001b[0mnumpy\u001b[0m\u001b[1;33m.\u001b[0m\u001b[0mma\u001b[0m\u001b[1;33m.\u001b[0m\u001b[0mmrecords\u001b[0m \u001b[1;32mas\u001b[0m \u001b[0mmrecords\u001b[0m\u001b[1;33m\u001b[0m\u001b[1;33m\u001b[0m\u001b[0m\n",
      "\u001b[1;32mD:\\Applications\\Anaconda\\lib\\site-packages\\pandas\\core\\internals\\construction.py\u001b[0m in \u001b[0;36minit_dict\u001b[1;34m(data, index, columns, dtype)\u001b[0m\n\u001b[0;32m    281\u001b[0m             \u001b[0marr\u001b[0m \u001b[1;32mif\u001b[0m \u001b[1;32mnot\u001b[0m \u001b[0mis_datetime64tz_dtype\u001b[0m\u001b[1;33m(\u001b[0m\u001b[0marr\u001b[0m\u001b[1;33m)\u001b[0m \u001b[1;32melse\u001b[0m \u001b[0marr\u001b[0m\u001b[1;33m.\u001b[0m\u001b[0mcopy\u001b[0m\u001b[1;33m(\u001b[0m\u001b[1;33m)\u001b[0m \u001b[1;32mfor\u001b[0m \u001b[0marr\u001b[0m \u001b[1;32min\u001b[0m \u001b[0marrays\u001b[0m\u001b[1;33m\u001b[0m\u001b[1;33m\u001b[0m\u001b[0m\n\u001b[0;32m    282\u001b[0m         ]\n\u001b[1;32m--> 283\u001b[1;33m     \u001b[1;32mreturn\u001b[0m \u001b[0marrays_to_mgr\u001b[0m\u001b[1;33m(\u001b[0m\u001b[0marrays\u001b[0m\u001b[1;33m,\u001b[0m \u001b[0mdata_names\u001b[0m\u001b[1;33m,\u001b[0m \u001b[0mindex\u001b[0m\u001b[1;33m,\u001b[0m \u001b[0mcolumns\u001b[0m\u001b[1;33m,\u001b[0m \u001b[0mdtype\u001b[0m\u001b[1;33m=\u001b[0m\u001b[0mdtype\u001b[0m\u001b[1;33m)\u001b[0m\u001b[1;33m\u001b[0m\u001b[1;33m\u001b[0m\u001b[0m\n\u001b[0m\u001b[0;32m    284\u001b[0m \u001b[1;33m\u001b[0m\u001b[0m\n\u001b[0;32m    285\u001b[0m \u001b[1;33m\u001b[0m\u001b[0m\n",
      "\u001b[1;32mD:\\Applications\\Anaconda\\lib\\site-packages\\pandas\\core\\internals\\construction.py\u001b[0m in \u001b[0;36marrays_to_mgr\u001b[1;34m(arrays, arr_names, index, columns, dtype, verify_integrity)\u001b[0m\n\u001b[0;32m     76\u001b[0m         \u001b[1;31m# figure out the index, if necessary\u001b[0m\u001b[1;33m\u001b[0m\u001b[1;33m\u001b[0m\u001b[1;33m\u001b[0m\u001b[0m\n\u001b[0;32m     77\u001b[0m         \u001b[1;32mif\u001b[0m \u001b[0mindex\u001b[0m \u001b[1;32mis\u001b[0m \u001b[1;32mNone\u001b[0m\u001b[1;33m:\u001b[0m\u001b[1;33m\u001b[0m\u001b[1;33m\u001b[0m\u001b[0m\n\u001b[1;32m---> 78\u001b[1;33m             \u001b[0mindex\u001b[0m \u001b[1;33m=\u001b[0m \u001b[0mextract_index\u001b[0m\u001b[1;33m(\u001b[0m\u001b[0marrays\u001b[0m\u001b[1;33m)\u001b[0m\u001b[1;33m\u001b[0m\u001b[1;33m\u001b[0m\u001b[0m\n\u001b[0m\u001b[0;32m     79\u001b[0m         \u001b[1;32melse\u001b[0m\u001b[1;33m:\u001b[0m\u001b[1;33m\u001b[0m\u001b[1;33m\u001b[0m\u001b[0m\n\u001b[0;32m     80\u001b[0m             \u001b[0mindex\u001b[0m \u001b[1;33m=\u001b[0m \u001b[0mensure_index\u001b[0m\u001b[1;33m(\u001b[0m\u001b[0mindex\u001b[0m\u001b[1;33m)\u001b[0m\u001b[1;33m\u001b[0m\u001b[1;33m\u001b[0m\u001b[0m\n",
      "\u001b[1;32mD:\\Applications\\Anaconda\\lib\\site-packages\\pandas\\core\\internals\\construction.py\u001b[0m in \u001b[0;36mextract_index\u001b[1;34m(data)\u001b[0m\n\u001b[0;32m    385\u001b[0m \u001b[1;33m\u001b[0m\u001b[0m\n\u001b[0;32m    386\u001b[0m         \u001b[1;32mif\u001b[0m \u001b[1;32mnot\u001b[0m \u001b[0mindexes\u001b[0m \u001b[1;32mand\u001b[0m \u001b[1;32mnot\u001b[0m \u001b[0mraw_lengths\u001b[0m\u001b[1;33m:\u001b[0m\u001b[1;33m\u001b[0m\u001b[1;33m\u001b[0m\u001b[0m\n\u001b[1;32m--> 387\u001b[1;33m             \u001b[1;32mraise\u001b[0m \u001b[0mValueError\u001b[0m\u001b[1;33m(\u001b[0m\u001b[1;34m\"If using all scalar values, you must pass an index\"\u001b[0m\u001b[1;33m)\u001b[0m\u001b[1;33m\u001b[0m\u001b[1;33m\u001b[0m\u001b[0m\n\u001b[0m\u001b[0;32m    388\u001b[0m \u001b[1;33m\u001b[0m\u001b[0m\n\u001b[0;32m    389\u001b[0m         \u001b[1;32mif\u001b[0m \u001b[0mhave_series\u001b[0m\u001b[1;33m:\u001b[0m\u001b[1;33m\u001b[0m\u001b[1;33m\u001b[0m\u001b[0m\n",
      "\u001b[1;31mValueError\u001b[0m: If using all scalar values, you must pass an index"
     ]
    }
   ],
   "source": [
    "a_r, a_s = mini_play_time(player_a)"
   ]
  },
  {
   "cell_type": "code",
   "execution_count": null,
   "metadata": {},
   "outputs": [],
   "source": []
  },
  {
   "cell_type": "code",
   "execution_count": 964,
   "metadata": {},
   "outputs": [],
   "source": [
    "df_player_a.to_csv(\"player_a.csv\", index=False)"
   ]
  },
  {
   "cell_type": "code",
   "execution_count": 963,
   "metadata": {},
   "outputs": [
    {
     "data": {
      "text/html": [
       "<div>\n",
       "<style scoped>\n",
       "    .dataframe tbody tr th:only-of-type {\n",
       "        vertical-align: middle;\n",
       "    }\n",
       "\n",
       "    .dataframe tbody tr th {\n",
       "        vertical-align: top;\n",
       "    }\n",
       "\n",
       "    .dataframe thead th {\n",
       "        text-align: right;\n",
       "    }\n",
       "</style>\n",
       "<table border=\"1\" class=\"dataframe\">\n",
       "  <thead>\n",
       "    <tr style=\"text-align: right;\">\n",
       "      <th></th>\n",
       "      <th>player_id</th>\n",
       "      <th>type</th>\n",
       "      <th>level</th>\n",
       "      <th>play_time</th>\n",
       "      <th>completed_on</th>\n",
       "    </tr>\n",
       "  </thead>\n",
       "  <tbody>\n",
       "    <tr>\n",
       "      <th>10</th>\n",
       "      <td>6427001</td>\n",
       "      <td>priority</td>\n",
       "      <td>0</td>\n",
       "      <td>705</td>\n",
       "      <td>2307</td>\n",
       "    </tr>\n",
       "    <tr>\n",
       "      <th>20</th>\n",
       "      <td>6427001</td>\n",
       "      <td>people</td>\n",
       "      <td>0</td>\n",
       "      <td>895</td>\n",
       "      <td>3948</td>\n",
       "    </tr>\n",
       "    <tr>\n",
       "      <th>0</th>\n",
       "      <td>6427001</td>\n",
       "      <td>knowledge</td>\n",
       "      <td>0</td>\n",
       "      <td>1127</td>\n",
       "      <td>4667</td>\n",
       "    </tr>\n",
       "    <tr>\n",
       "      <th>11</th>\n",
       "      <td>6427001</td>\n",
       "      <td>priority</td>\n",
       "      <td>1</td>\n",
       "      <td>99</td>\n",
       "      <td>6561</td>\n",
       "    </tr>\n",
       "    <tr>\n",
       "      <th>34</th>\n",
       "      <td>6427001</td>\n",
       "      <td>refusal</td>\n",
       "      <td>4</td>\n",
       "      <td>162</td>\n",
       "      <td>7696</td>\n",
       "    </tr>\n",
       "    <tr>\n",
       "      <th>30</th>\n",
       "      <td>6427001</td>\n",
       "      <td>refusal</td>\n",
       "      <td>0</td>\n",
       "      <td>499</td>\n",
       "      <td>9218</td>\n",
       "    </tr>\n",
       "    <tr>\n",
       "      <th>33</th>\n",
       "      <td>6427001</td>\n",
       "      <td>refusal</td>\n",
       "      <td>3</td>\n",
       "      <td>282</td>\n",
       "      <td>9682</td>\n",
       "    </tr>\n",
       "    <tr>\n",
       "      <th>31</th>\n",
       "      <td>6427001</td>\n",
       "      <td>refusal</td>\n",
       "      <td>1</td>\n",
       "      <td>496</td>\n",
       "      <td>10057</td>\n",
       "    </tr>\n",
       "    <tr>\n",
       "      <th>22</th>\n",
       "      <td>6427001</td>\n",
       "      <td>people</td>\n",
       "      <td>2</td>\n",
       "      <td>289</td>\n",
       "      <td>11490</td>\n",
       "    </tr>\n",
       "    <tr>\n",
       "      <th>12</th>\n",
       "      <td>6427001</td>\n",
       "      <td>priority</td>\n",
       "      <td>2</td>\n",
       "      <td>169</td>\n",
       "      <td>11706</td>\n",
       "    </tr>\n",
       "    <tr>\n",
       "      <th>13</th>\n",
       "      <td>6427001</td>\n",
       "      <td>priority</td>\n",
       "      <td>3</td>\n",
       "      <td>486</td>\n",
       "      <td>12471</td>\n",
       "    </tr>\n",
       "    <tr>\n",
       "      <th>8</th>\n",
       "      <td>6427001</td>\n",
       "      <td>knowledge</td>\n",
       "      <td>8</td>\n",
       "      <td>388</td>\n",
       "      <td>13475</td>\n",
       "    </tr>\n",
       "    <tr>\n",
       "      <th>32</th>\n",
       "      <td>6427001</td>\n",
       "      <td>refusal</td>\n",
       "      <td>2</td>\n",
       "      <td>167</td>\n",
       "      <td>14394</td>\n",
       "    </tr>\n",
       "    <tr>\n",
       "      <th>18</th>\n",
       "      <td>6427001</td>\n",
       "      <td>priority</td>\n",
       "      <td>8</td>\n",
       "      <td>133</td>\n",
       "      <td>15443</td>\n",
       "    </tr>\n",
       "    <tr>\n",
       "      <th>6</th>\n",
       "      <td>6427001</td>\n",
       "      <td>knowledge</td>\n",
       "      <td>6</td>\n",
       "      <td>401</td>\n",
       "      <td>17175</td>\n",
       "    </tr>\n",
       "    <tr>\n",
       "      <th>35</th>\n",
       "      <td>6427001</td>\n",
       "      <td>refusal</td>\n",
       "      <td>5</td>\n",
       "      <td>141</td>\n",
       "      <td>17513</td>\n",
       "    </tr>\n",
       "    <tr>\n",
       "      <th>36</th>\n",
       "      <td>6427001</td>\n",
       "      <td>refusal</td>\n",
       "      <td>6</td>\n",
       "      <td>148</td>\n",
       "      <td>17669</td>\n",
       "    </tr>\n",
       "    <tr>\n",
       "      <th>37</th>\n",
       "      <td>6427001</td>\n",
       "      <td>refusal</td>\n",
       "      <td>7</td>\n",
       "      <td>152</td>\n",
       "      <td>18165</td>\n",
       "    </tr>\n",
       "    <tr>\n",
       "      <th>14</th>\n",
       "      <td>6427001</td>\n",
       "      <td>priority</td>\n",
       "      <td>4</td>\n",
       "      <td>124</td>\n",
       "      <td>18469</td>\n",
       "    </tr>\n",
       "    <tr>\n",
       "      <th>26</th>\n",
       "      <td>6427001</td>\n",
       "      <td>people</td>\n",
       "      <td>6</td>\n",
       "      <td>272</td>\n",
       "      <td>18813</td>\n",
       "    </tr>\n",
       "    <tr>\n",
       "      <th>15</th>\n",
       "      <td>6427001</td>\n",
       "      <td>priority</td>\n",
       "      <td>5</td>\n",
       "      <td>504</td>\n",
       "      <td>20681</td>\n",
       "    </tr>\n",
       "    <tr>\n",
       "      <th>21</th>\n",
       "      <td>6427001</td>\n",
       "      <td>people</td>\n",
       "      <td>1</td>\n",
       "      <td>965</td>\n",
       "      <td>22630</td>\n",
       "    </tr>\n",
       "    <tr>\n",
       "      <th>25</th>\n",
       "      <td>6427001</td>\n",
       "      <td>people</td>\n",
       "      <td>5</td>\n",
       "      <td>1246</td>\n",
       "      <td>23090</td>\n",
       "    </tr>\n",
       "    <tr>\n",
       "      <th>16</th>\n",
       "      <td>6427001</td>\n",
       "      <td>priority</td>\n",
       "      <td>6</td>\n",
       "      <td>173</td>\n",
       "      <td>23534</td>\n",
       "    </tr>\n",
       "    <tr>\n",
       "      <th>17</th>\n",
       "      <td>6427001</td>\n",
       "      <td>priority</td>\n",
       "      <td>7</td>\n",
       "      <td>166</td>\n",
       "      <td>23700</td>\n",
       "    </tr>\n",
       "    <tr>\n",
       "      <th>23</th>\n",
       "      <td>6427001</td>\n",
       "      <td>people</td>\n",
       "      <td>3</td>\n",
       "      <td>499</td>\n",
       "      <td>24142</td>\n",
       "    </tr>\n",
       "    <tr>\n",
       "      <th>27</th>\n",
       "      <td>6427001</td>\n",
       "      <td>people</td>\n",
       "      <td>7</td>\n",
       "      <td>1245</td>\n",
       "      <td>24520</td>\n",
       "    </tr>\n",
       "    <tr>\n",
       "      <th>28</th>\n",
       "      <td>6427001</td>\n",
       "      <td>people</td>\n",
       "      <td>8</td>\n",
       "      <td>1433</td>\n",
       "      <td>25070</td>\n",
       "    </tr>\n",
       "    <tr>\n",
       "      <th>7</th>\n",
       "      <td>6427001</td>\n",
       "      <td>knowledge</td>\n",
       "      <td>7</td>\n",
       "      <td>1625</td>\n",
       "      <td>26864</td>\n",
       "    </tr>\n",
       "    <tr>\n",
       "      <th>4</th>\n",
       "      <td>6427001</td>\n",
       "      <td>knowledge</td>\n",
       "      <td>4</td>\n",
       "      <td>593</td>\n",
       "      <td>27336</td>\n",
       "    </tr>\n",
       "    <tr>\n",
       "      <th>1</th>\n",
       "      <td>6427001</td>\n",
       "      <td>knowledge</td>\n",
       "      <td>1</td>\n",
       "      <td>556</td>\n",
       "      <td>28241</td>\n",
       "    </tr>\n",
       "    <tr>\n",
       "      <th>19</th>\n",
       "      <td>6427001</td>\n",
       "      <td>priority</td>\n",
       "      <td>9</td>\n",
       "      <td>1011</td>\n",
       "      <td>30497</td>\n",
       "    </tr>\n",
       "    <tr>\n",
       "      <th>9</th>\n",
       "      <td>6427001</td>\n",
       "      <td>knowledge</td>\n",
       "      <td>9</td>\n",
       "      <td>1544</td>\n",
       "      <td>33031</td>\n",
       "    </tr>\n",
       "    <tr>\n",
       "      <th>5</th>\n",
       "      <td>6427001</td>\n",
       "      <td>knowledge</td>\n",
       "      <td>5</td>\n",
       "      <td>1958</td>\n",
       "      <td>33705</td>\n",
       "    </tr>\n",
       "    <tr>\n",
       "      <th>2</th>\n",
       "      <td>6427001</td>\n",
       "      <td>knowledge</td>\n",
       "      <td>2</td>\n",
       "      <td>1056</td>\n",
       "      <td>34632</td>\n",
       "    </tr>\n",
       "    <tr>\n",
       "      <th>3</th>\n",
       "      <td>6427001</td>\n",
       "      <td>knowledge</td>\n",
       "      <td>3</td>\n",
       "      <td>719</td>\n",
       "      <td>35104</td>\n",
       "    </tr>\n",
       "    <tr>\n",
       "      <th>29</th>\n",
       "      <td>6427001</td>\n",
       "      <td>people</td>\n",
       "      <td>9</td>\n",
       "      <td>1210</td>\n",
       "      <td>36462</td>\n",
       "    </tr>\n",
       "    <tr>\n",
       "      <th>38</th>\n",
       "      <td>6427001</td>\n",
       "      <td>refusal</td>\n",
       "      <td>8</td>\n",
       "      <td>327</td>\n",
       "      <td>37370</td>\n",
       "    </tr>\n",
       "    <tr>\n",
       "      <th>39</th>\n",
       "      <td>6427001</td>\n",
       "      <td>refusal</td>\n",
       "      <td>9</td>\n",
       "      <td>366</td>\n",
       "      <td>37482</td>\n",
       "    </tr>\n",
       "  </tbody>\n",
       "</table>\n",
       "</div>"
      ],
      "text/plain": [
       "    player_id       type level play_time completed_on\n",
       "10    6427001   priority     0       705         2307\n",
       "20    6427001     people     0       895         3948\n",
       "0     6427001  knowledge     0      1127         4667\n",
       "11    6427001   priority     1        99         6561\n",
       "34    6427001    refusal     4       162         7696\n",
       "30    6427001    refusal     0       499         9218\n",
       "33    6427001    refusal     3       282         9682\n",
       "31    6427001    refusal     1       496        10057\n",
       "22    6427001     people     2       289        11490\n",
       "12    6427001   priority     2       169        11706\n",
       "13    6427001   priority     3       486        12471\n",
       "8     6427001  knowledge     8       388        13475\n",
       "32    6427001    refusal     2       167        14394\n",
       "18    6427001   priority     8       133        15443\n",
       "6     6427001  knowledge     6       401        17175\n",
       "35    6427001    refusal     5       141        17513\n",
       "36    6427001    refusal     6       148        17669\n",
       "37    6427001    refusal     7       152        18165\n",
       "14    6427001   priority     4       124        18469\n",
       "26    6427001     people     6       272        18813\n",
       "15    6427001   priority     5       504        20681\n",
       "21    6427001     people     1       965        22630\n",
       "25    6427001     people     5      1246        23090\n",
       "16    6427001   priority     6       173        23534\n",
       "17    6427001   priority     7       166        23700\n",
       "23    6427001     people     3       499        24142\n",
       "27    6427001     people     7      1245        24520\n",
       "28    6427001     people     8      1433        25070\n",
       "7     6427001  knowledge     7      1625        26864\n",
       "4     6427001  knowledge     4       593        27336\n",
       "1     6427001  knowledge     1       556        28241\n",
       "19    6427001   priority     9      1011        30497\n",
       "9     6427001  knowledge     9      1544        33031\n",
       "5     6427001  knowledge     5      1958        33705\n",
       "2     6427001  knowledge     2      1056        34632\n",
       "3     6427001  knowledge     3       719        35104\n",
       "29    6427001     people     9      1210        36462\n",
       "38    6427001    refusal     8       327        37370\n",
       "39    6427001    refusal     9       366        37482"
      ]
     },
     "execution_count": 963,
     "metadata": {},
     "output_type": "execute_result"
    }
   ],
   "source": [
    "mini_play_time(player_a)"
   ]
  },
  {
   "cell_type": "code",
   "execution_count": 959,
   "metadata": {},
   "outputs": [
    {
     "name": "stdout",
     "output_type": "stream",
     "text": [
      "Number of irregular players: 10.\n"
     ]
    }
   ],
   "source": [
    "irregular_players = []\n",
    "player_histories = []\n",
    "\n",
    "for p in df_log['player_id'].unique():\n",
    "    try:\n",
    "        player_histories.append(mini_play_time(p))\n",
    "    except:\n",
    "        irregular_players.append(p)\n",
    "\n",
    "print(f\"Number of irregular players: {len(irregular_players)}.\")"
   ]
  },
  {
   "cell_type": "code",
   "execution_count": 960,
   "metadata": {},
   "outputs": [],
   "source": [
    "df_all_players = pd.concat(player_histories, ignore_index=True)"
   ]
  },
  {
   "cell_type": "code",
   "execution_count": 962,
   "metadata": {},
   "outputs": [],
   "source": [
    "df_all_players.to_csv(\"all_players.csv\", index=False)"
   ]
  },
  {
   "cell_type": "code",
   "execution_count": null,
   "metadata": {},
   "outputs": [],
   "source": []
  },
  {
   "cell_type": "code",
   "execution_count": 1009,
   "metadata": {},
   "outputs": [
    {
     "name": "stdout",
     "output_type": "stream",
     "text": [
      "6486015\n"
     ]
    },
    {
     "data": {
      "text/plain": [
       "<AxesSubplot:ylabel='play_time'>"
      ]
     },
     "execution_count": 1009,
     "metadata": {},
     "output_type": "execute_result"
    },
    {
     "data": {
      "image/png": "[encoded data removed]",
      "text/plain": [
       "<Figure size 432x288 with 1 Axes>"
      ]
     },
     "metadata": {},
     "output_type": "display_data"
    }
   ],
   "source": [
    "player = df_all_players['player_id'].sample().values[0]\n",
    "print(player)\n",
    "sns.scatterplot(x=np.arange(len(df_all_players.query(f\"player_id == {player}\"))),\n",
    "                y='play_time',\n",
    "                data=df_all_players.query(f\"player_id == {player}\"))"
   ]
  },
  {
   "cell_type": "code",
   "execution_count": null,
   "metadata": {},
   "outputs": [],
   "source": []
  },
  {
   "cell_type": "code",
   "execution_count": 779,
   "metadata": {},
   "outputs": [],
   "source": [
    "def mini_play_time(player_id):\n",
    "    df_player = df_log.query(f\"player_id == {player_id}\")\n",
    "    player_events = df_player['event_id']\n",
    "    # look for events where players start the mini game\n",
    "    begin_events = df_player.query(\"event_id==400 | event_id==500 | event_id==800 | event_id==900\")\n",
    "    exit_events = df_player.query(\"event_id==103 | event_id==1000 | event_id==1001 | event_id==1002\") \n",
    "    \n",
    "    key_events = pd.concat([begin_events, exit_events], axis=0)\n",
    "    key_events.sort_values(by=['event_time_dbl'], inplace=True)\n",
    "    \n",
    "    begin_ids = [400, 500, 800, 900]\n",
    "    end_ids = [103, 1000, 1001, 1002]\n",
    "    status = []\n",
    "    for e in key_events['event_id']:\n",
    "        if e in begin_ids:\n",
    "            status.append('enter')\n",
    "        else:\n",
    "            status.append('exit')\n",
    "    key_events['status'] = status\n",
    "\n",
    "    keep_rows = [True]\n",
    "    for i in range(len(key_events.index)-1):\n",
    "        curr_idx = key_events.index[i]\n",
    "        next_idx = key_events.index[i+1]\n",
    "        if key_events.at[curr_idx, 'status'] == key_events.at[next_idx, 'status']:\n",
    "            keep_rows.append(False)\n",
    "        else:\n",
    "            keep_rows.append(True)\n",
    "    \n",
    "    key_events = key_events.loc[keep_rows]\n",
    "    if key_events['event_id'].values[0] in end_ids:\n",
    "        key_events = key_events.iloc[1:]\n",
    "    elif key_events['event_id'].values[-1] in begin_ids:\n",
    "        key_events = key_events.iloc[:-1]\n",
    "    \n",
    "    game_type = []\n",
    "    for c in key_events['event_category']:\n",
    "        if c in ['People Sense', 'Knowledge Minigame', 'Refuse Power Minigame', 'Priority Sense']:\n",
    "            game_type.append(c)\n",
    "        else:\n",
    "            game_type.append(game_type[-1])\n",
    "    key_events['game_type'] = game_type\n",
    "\n",
    "    # keep the columns we are interested in\n",
    "    key_events = key_events[['row_id', 'player_id', 'date', 'event_time_dbl', 'stack_id', 'game_type', 'status']]\n",
    "\n",
    "    return key_events"
   ]
  },
  {
   "cell_type": "code",
   "execution_count": 814,
   "metadata": {},
   "outputs": [],
   "source": [
    "def find_stack_flow(player_id):\n",
    "  # find the data for this player from the full log data\n",
    "  df_p = df_log[df_log['player_id']==player_id]\n",
    "\n",
    "  # find data relevant to stack-related events\n",
    "  def find_stack_event(df):\n",
    "    rel = df[(df['event_id'] == 200) | (df['event_id'] == 203) | (df['event_id'] == 204) | (df['event_id']==1)|(df['event_id']==101)|(df['event_id']==1002)]\n",
    "    rel = rel.sort_values(by = 'event_time_dbl', ascending = True)\n",
    "    rel = rel[['row_id', 'player_id','date','event_id','event_description','stack_id','stack_title','event_time_dbl']]\n",
    "    return rel\n",
    "  \n",
    "  df_stack = find_stack_event(df_p)\n",
    "\n",
    "  def find_status(event_id):\n",
    "    if event_id == 200:\n",
    "      return 'enter'\n",
    "    elif event_id in [204, 1, 101, 1002]:\n",
    "      return 'exit'\n",
    "    elif event_id == 203:\n",
    "      return 'complete'\n",
    "  \n",
    "  df_stack['status'] = df_stack['event_id'].apply(find_status)\n",
    "  df_stack['status'] = df_stack['status'].apply(lambda x: 'exit' if x == 'complete' else x)\n",
    "  # df_stack['status_dum'] = df_stack['event_id'].apply(find_status_dum)\n",
    "\n",
    "  # drop multiple exits and keep the first one\n",
    "  index_to_drop = []\n",
    "  for i in range(1,len(df_stack)):\n",
    "    if df_stack['status'].iloc[i] == 'exit' and df_stack['status'].iloc[i-1] == 'exit':\n",
    "      index_to_drop.append(i)\n",
    "    if pd.isna(df_stack['stack_id'].iloc[i]):\n",
    "      df_stack['stack_id'].iloc[i] = df_stack['stack_id'].iloc[i-1]\n",
    "\n",
    "  df_stack = df_stack.drop(df_stack.index[index_to_drop])\n",
    "  df_stack = df_stack[df_stack['stack_id'] != 12]\n",
    "  return df_stack[['row_id','player_id','date','stack_id','stack_title','event_time_dbl','status']]"
   ]
  },
  {
   "cell_type": "markdown",
   "metadata": {},
   "source": [
    "## 2. Statistical Model"
   ]
  },
  {
   "cell_type": "markdown",
   "metadata": {},
   "source": [
    "We want to run a simple linear regression on each individual player. The y-variable is the time spent on a mini game, and the x-variable is the time at which the player completes the mini game."
   ]
  },
  {
   "cell_type": "code",
   "execution_count": null,
   "metadata": {},
   "outputs": [],
   "source": []
  },
  {
   "cell_type": "code",
   "execution_count": null,
   "metadata": {},
   "outputs": [],
   "source": []
  },
  {
   "cell_type": "code",
   "execution_count": null,
   "metadata": {},
   "outputs": [],
   "source": []
  },
  {
   "cell_type": "code",
   "execution_count": null,
   "metadata": {},
   "outputs": [],
   "source": []
  },
  {
   "cell_type": "code",
   "execution_count": null,
   "metadata": {},
   "outputs": [],
   "source": []
  },
  {
   "cell_type": "code",
   "execution_count": null,
   "metadata": {},
   "outputs": [],
   "source": []
  },
  {
   "cell_type": "code",
   "execution_count": null,
   "metadata": {},
   "outputs": [],
   "source": []
  },
  {
   "cell_type": "code",
   "execution_count": null,
   "metadata": {},
   "outputs": [],
   "source": []
  },
  {
   "cell_type": "code",
   "execution_count": null,
   "metadata": {},
   "outputs": [],
   "source": []
  },
  {
   "cell_type": "code",
   "execution_count": null,
   "metadata": {},
   "outputs": [],
   "source": []
  },
  {
   "cell_type": "code",
   "execution_count": null,
   "metadata": {},
   "outputs": [],
   "source": []
  },
  {
   "cell_type": "code",
   "execution_count": null,
   "metadata": {},
   "outputs": [],
   "source": []
  },
  {
   "cell_type": "markdown",
   "metadata": {},
   "source": [
    "## 3. Conclusion"
   ]
  }
 ],
 "metadata": {
  "interpreter": {
   "hash": "a8f61be024eba58adef938c9aa1e29e02cb3dece83a5348b1a2dafd16a070453"
  },
  "kernelspec": {
   "display_name": "Python 3.8.8 ('base')",
   "language": "python",
   "name": "python3"
  },
  "language_info": {
   "codemirror_mode": {
    "name": "ipython",
    "version": 3
   },
   "file_extension": ".py",
   "mimetype": "text/x-python",
   "name": "python",
   "nbconvert_exporter": "python",
   "pygments_lexer": "ipython3",
   "version": "3.8.5"
  },
  "orig_nbformat": 4
 },
 "nbformat": 4,
 "nbformat_minor": 2
}
